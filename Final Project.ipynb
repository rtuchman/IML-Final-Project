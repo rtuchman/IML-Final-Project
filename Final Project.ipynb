{
 "cells": [
  {
   "cell_type": "markdown",
   "metadata": {},
   "source": [
    "# Final Project"
   ]
  },
  {
   "cell_type": "markdown",
   "metadata": {},
   "source": [
    "**Import Libraries**"
   ]
  },
  {
   "cell_type": "code",
   "execution_count": 1,
   "metadata": {},
   "outputs": [],
   "source": [
    "import pandas as pd\n",
    "import matplotlib.pyplot as plt\n",
    "import seaborn as sns\n",
    "import numpy as np\n",
    "from feature_selector import FeatureSelector\n",
    "import warnings\n",
    "warnings.filterwarnings('ignore')"
   ]
  },
  {
   "cell_type": "markdown",
   "metadata": {},
   "source": [
    "Feature selector is a tool for dimensionality reduction of machine learning datasets.\n",
    "https://github.com/WillKoehrsen/feature-selector\n"
   ]
  },
  {
   "cell_type": "markdown",
   "metadata": {},
   "source": [
    "## 1. Data exploration"
   ]
  },
  {
   "cell_type": "code",
   "execution_count": 2,
   "metadata": {},
   "outputs": [],
   "source": [
    "df_train = pd.read_csv(\"train.csv\")"
   ]
  },
  {
   "cell_type": "markdown",
   "metadata": {},
   "source": [
    "## `columns`"
   ]
  },
  {
   "cell_type": "code",
   "execution_count": 3,
   "metadata": {},
   "outputs": [
    {
     "data": {
      "text/plain": [
       "Index(['0', '1', '2', '3', '4', '5', '6', '7', '8', '9', '10', '11', '12',\n",
       "       '13', '14', '15', '16', '17', '18', '19', '20', 'label'],\n",
       "      dtype='object')"
      ]
     },
     "execution_count": 3,
     "metadata": {},
     "output_type": "execute_result"
    }
   ],
   "source": [
    "df_train.columns"
   ]
  },
  {
   "cell_type": "markdown",
   "metadata": {},
   "source": [
    "The columns don't give us any valuable info"
   ]
  },
  {
   "cell_type": "markdown",
   "metadata": {},
   "source": [
    "## `dtypes`"
   ]
  },
  {
   "cell_type": "code",
   "execution_count": 4,
   "metadata": {},
   "outputs": [
    {
     "data": {
      "text/plain": [
       "0         object\n",
       "1        float64\n",
       "2         object\n",
       "3         object\n",
       "4        float64\n",
       "5         object\n",
       "6         object\n",
       "7        float64\n",
       "8         object\n",
       "9        float64\n",
       "10       float64\n",
       "11       float64\n",
       "12       float64\n",
       "13       float64\n",
       "14       float64\n",
       "15       float64\n",
       "16       float64\n",
       "17       float64\n",
       "18       float64\n",
       "19       float64\n",
       "20       float64\n",
       "label      int64\n",
       "dtype: object"
      ]
     },
     "execution_count": 4,
     "metadata": {},
     "output_type": "execute_result"
    }
   ],
   "source": [
    "df_train.dtypes"
   ]
  },
  {
   "cell_type": "markdown",
   "metadata": {},
   "source": [
    "columns 0,2,35,6,8 are categorial variables, the rest are of type float and the labels are booleans"
   ]
  },
  {
   "cell_type": "markdown",
   "metadata": {},
   "source": [
    "**To understand the data we'll look at each variable and try to understand their meaning and relevance to our problem**"
   ]
  },
  {
   "cell_type": "markdown",
   "metadata": {},
   "source": [
    "## First we'll analyze 'label'"
   ]
  },
  {
   "cell_type": "code",
   "execution_count": 5,
   "metadata": {},
   "outputs": [
    {
     "data": {
      "text/plain": [
       "count    24420.000000\n",
       "mean         0.241482\n",
       "std          0.427991\n",
       "min          0.000000\n",
       "25%          0.000000\n",
       "50%          0.000000\n",
       "75%          0.000000\n",
       "max          1.000000\n",
       "Name: label, dtype: float64"
      ]
     },
     "execution_count": 5,
     "metadata": {},
     "output_type": "execute_result"
    }
   ],
   "source": [
    "df_train['label'].describe()"
   ]
  },
  {
   "cell_type": "markdown",
   "metadata": {},
   "source": [
    "We can see that the mean is closer to 0 than 1. This means there are more samples labeled 0."
   ]
  },
  {
   "cell_type": "markdown",
   "metadata": {},
   "source": [
    "Lets visualize that"
   ]
  },
  {
   "cell_type": "code",
   "execution_count": 6,
   "metadata": {},
   "outputs": [
    {
     "data": {
      "image/png": "[encoded data removed]",
      "text/plain": [
       "<Figure size 432x288 with 1 Axes>"
      ]
     },
     "metadata": {
      "needs_background": "light"
     },
     "output_type": "display_data"
    }
   ],
   "source": [
    "df_train['label'].value_counts().plot.barh()\n",
    "plt.show()"
   ]
  },
  {
   "cell_type": "markdown",
   "metadata": {},
   "source": [
    "Indeed many more 0's than 1's"
   ]
  },
  {
   "cell_type": "markdown",
   "metadata": {},
   "source": [
    "## Numerical and Boolean variables"
   ]
  },
  {
   "cell_type": "markdown",
   "metadata": {},
   "source": [
    "**Feature '1'**"
   ]
  },
  {
   "cell_type": "code",
   "execution_count": 7,
   "metadata": {},
   "outputs": [
    {
     "data": {
      "text/plain": [
       "count    24331.000000\n",
       "mean         8.847096\n",
       "std          2.192678\n",
       "min          0.000000\n",
       "25%          8.000000\n",
       "50%          9.000000\n",
       "75%         10.000000\n",
       "max         13.000000\n",
       "Name: 1, dtype: float64"
      ]
     },
     "execution_count": 7,
     "metadata": {},
     "output_type": "execute_result"
    }
   ],
   "source": [
    "df_train['1'].describe()"
   ]
  },
  {
   "cell_type": "code",
   "execution_count": 8,
   "metadata": {},
   "outputs": [
    {
     "data": {
      "text/plain": [
       "0.003657885002671489"
      ]
     },
     "execution_count": 8,
     "metadata": {},
     "output_type": "execute_result"
    }
   ],
   "source": [
    "df_train['1'].isnull().sum()/df_train['1'].count()"
   ]
  },
  {
   "cell_type": "markdown",
   "metadata": {},
   "source": [
    "Less than 0.3% missing values. for the sake of the exploration we'll drop the missing values"
   ]
  },
  {
   "cell_type": "markdown",
   "metadata": {},
   "source": [
    "**Distribution**"
   ]
  },
  {
   "cell_type": "code",
   "execution_count": 9,
   "metadata": {},
   "outputs": [
    {
     "data": {
      "image/png": "[encoded data removed]",
      "text/plain": [
       "<Figure size 432x288 with 1 Axes>"
      ]
     },
     "metadata": {
      "needs_background": "light"
     },
     "output_type": "display_data"
    }
   ],
   "source": [
    "df_train['1'].dropna().plot.hist()\n",
    "plt.show()"
   ]
  },
  {
   "cell_type": "markdown",
   "metadata": {},
   "source": [
    "Feature 1 doesn't look like any familiar distribution"
   ]
  },
  {
   "cell_type": "markdown",
   "metadata": {},
   "source": [
    "**Let's see how it correlates with our labels**"
   ]
  },
  {
   "cell_type": "markdown",
   "metadata": {},
   "source": [
    "To do that we'll precalculate the labels rate (probability) and plot a bar plot"
   ]
  },
  {
   "cell_type": "markdown",
   "metadata": {},
   "source": [
    "This is done by segmenting df_train['1'] values into bins using pd.cut and using groupby on the bins to calculate the mean of the corresponding labels"
   ]
  },
  {
   "cell_type": "code",
   "execution_count": 10,
   "metadata": {},
   "outputs": [
    {
     "data": {
      "text/plain": [
       "<matplotlib.axes._subplots.AxesSubplot at 0x25b5ebd860>"
      ]
     },
     "execution_count": 10,
     "metadata": {},
     "output_type": "execute_result"
    },
    {
     "data": {
      "image/png": "[encoded data removed]",
      "text/plain": [
       "<Figure size 432x360 with 1 Axes>"
      ]
     },
     "metadata": {
      "needs_background": "light"
     },
     "output_type": "display_data"
    }
   ],
   "source": [
    "min, max = df_train['1'].min(), df_train['1'].max()\n",
    "bins = np.linspace(min, max, (max-min+1))\n",
    "labels = bins[1:]\n",
    "\n",
    "rpt = (df_train.groupby(pd.cut(df_train['1'], bins, labels=labels)).label.mean()).dropna().to_frame('label')\n",
    "rpt.plot.bar(figsize=(6, 5))"
   ]
  },
  {
   "cell_type": "markdown",
   "metadata": {},
   "source": [
    "Now we can see that the higher the value of the feature df_train['1'] the more likley it is to be labeled as '1'. **This feature is in some kind of correlation with the labels**"
   ]
  },
  {
   "cell_type": "markdown",
   "metadata": {},
   "source": [
    "**Feature '4'**"
   ]
  },
  {
   "cell_type": "code",
   "execution_count": 11,
   "metadata": {},
   "outputs": [
    {
     "data": {
      "text/plain": [
       "count    24375.000000\n",
       "mean         0.454113\n",
       "std          0.497900\n",
       "min          0.000000\n",
       "25%          0.000000\n",
       "50%          0.000000\n",
       "75%          1.000000\n",
       "max          1.000000\n",
       "Name: 4, dtype: float64"
      ]
     },
     "execution_count": 11,
     "metadata": {},
     "output_type": "execute_result"
    }
   ],
   "source": [
    "df_train['4'].describe()"
   ]
  },
  {
   "cell_type": "code",
   "execution_count": 12,
   "metadata": {},
   "outputs": [
    {
     "data": {
      "text/plain": [
       "0.0018461538461538461"
      ]
     },
     "execution_count": 12,
     "metadata": {},
     "output_type": "execute_result"
    }
   ],
   "source": [
    "df_train['4'].isnull().sum()/df_train['4'].count()"
   ]
  },
  {
   "cell_type": "markdown",
   "metadata": {},
   "source": [
    "Less than 0.2% missing values"
   ]
  },
  {
   "cell_type": "markdown",
   "metadata": {},
   "source": [
    "**Distribution**"
   ]
  },
  {
   "cell_type": "code",
   "execution_count": 13,
   "metadata": {},
   "outputs": [
    {
     "data": {
      "image/png": "[encoded data removed]",
      "text/plain": [
       "<Figure size 432x288 with 1 Axes>"
      ]
     },
     "metadata": {
      "needs_background": "light"
     },
     "output_type": "display_data"
    }
   ],
   "source": [
    "df_train['4'].dropna().plot.hist()\n",
    "plt.show()"
   ]
  },
  {
   "cell_type": "markdown",
   "metadata": {},
   "source": [
    "We can see that feature has a bit more 0's than 1's"
   ]
  },
  {
   "cell_type": "markdown",
   "metadata": {},
   "source": [
    "**Let's see how it correlates with our labels**"
   ]
  },
  {
   "cell_type": "code",
   "execution_count": 14,
   "metadata": {},
   "outputs": [
    {
     "data": {
      "text/plain": [
       "<matplotlib.axes._subplots.AxesSubplot at 0x25b5faf8d0>"
      ]
     },
     "execution_count": 14,
     "metadata": {},
     "output_type": "execute_result"
    },
    {
     "data": {
      "image/png": "[encoded data removed]",
      "text/plain": [
       "<Figure size 432x360 with 1 Axes>"
      ]
     },
     "metadata": {
      "needs_background": "light"
     },
     "output_type": "display_data"
    }
   ],
   "source": [
    "rpt = (df_train.groupby(df_train['4']).label.mean()).dropna().to_frame('label')\n",
    "rpt.plot.bar(figsize=(6, 5))"
   ]
  },
  {
   "cell_type": "markdown",
   "metadata": {},
   "source": [
    "For the feature indexed '4', 0's are very likley to be labeld 0 and 1's have a mean close to 0.5 which means there is a similar amount of 0 and 1 labels"
   ]
  },
  {
   "cell_type": "markdown",
   "metadata": {},
   "source": [
    "**Feature '7'**"
   ]
  },
  {
   "cell_type": "code",
   "execution_count": 15,
   "metadata": {},
   "outputs": [
    {
     "data": {
      "text/plain": [
       "count    24338.000000\n",
       "mean         0.670022\n",
       "std          0.470214\n",
       "min          0.000000\n",
       "25%          0.000000\n",
       "50%          1.000000\n",
       "75%          1.000000\n",
       "max          1.000000\n",
       "Name: 7, dtype: float64"
      ]
     },
     "execution_count": 15,
     "metadata": {},
     "output_type": "execute_result"
    }
   ],
   "source": [
    "df_train['7'].describe()"
   ]
  },
  {
   "cell_type": "code",
   "execution_count": 16,
   "metadata": {},
   "outputs": [
    {
     "data": {
      "text/plain": [
       "0.0033692168625195167"
      ]
     },
     "execution_count": 16,
     "metadata": {},
     "output_type": "execute_result"
    }
   ],
   "source": [
    "df_train['7'].isnull().sum()/df_train['7'].count()"
   ]
  },
  {
   "cell_type": "markdown",
   "metadata": {},
   "source": [
    "Less than 0.4% missing values"
   ]
  },
  {
   "cell_type": "markdown",
   "metadata": {},
   "source": [
    "**Distribution**"
   ]
  },
  {
   "cell_type": "code",
   "execution_count": 17,
   "metadata": {},
   "outputs": [
    {
     "data": {
      "image/png": "[encoded data removed]",
      "text/plain": [
       "<Figure size 432x288 with 1 Axes>"
      ]
     },
     "metadata": {
      "needs_background": "light"
     },
     "output_type": "display_data"
    }
   ],
   "source": [
    "df_train['7'].dropna().plot.hist()\n",
    "plt.show()"
   ]
  },
  {
   "cell_type": "markdown",
   "metadata": {},
   "source": [
    "Boolean variable with more 1's than 0's"
   ]
  },
  {
   "cell_type": "markdown",
   "metadata": {},
   "source": [
    "**Let's see how it correlates with our labels**"
   ]
  },
  {
   "cell_type": "code",
   "execution_count": 18,
   "metadata": {},
   "outputs": [
    {
     "data": {
      "text/plain": [
       "<matplotlib.axes._subplots.AxesSubplot at 0x25b5e88390>"
      ]
     },
     "execution_count": 18,
     "metadata": {},
     "output_type": "execute_result"
    },
    {
     "data": {
      "image/png": "[encoded data removed]",
      "text/plain": [
       "<Figure size 432x360 with 1 Axes>"
      ]
     },
     "metadata": {
      "needs_background": "light"
     },
     "output_type": "display_data"
    }
   ],
   "source": [
    "rpt = (df_train.groupby(df_train['7']).label.mean()).dropna().to_frame('label')\n",
    "rpt.plot.bar(figsize=(6, 5))"
   ]
  },
  {
   "cell_type": "markdown",
   "metadata": {},
   "source": [
    "For the feature indexed '7', 0's are very likley to be labeld 0 and 1's have a mean close to 0.3 which means it is also more likley to be labeld 0"
   ]
  },
  {
   "cell_type": "markdown",
   "metadata": {},
   "source": [
    "**Feature '9'**"
   ]
  },
  {
   "cell_type": "code",
   "execution_count": 19,
   "metadata": {},
   "outputs": [
    {
     "data": {
      "text/plain": [
       "count    24371.000000\n",
       "mean         3.671814\n",
       "std          1.007753\n",
       "min          1.960714\n",
       "25%          2.901297\n",
       "50%          3.594658\n",
       "75%          4.323616\n",
       "max          7.235182\n",
       "Name: 9, dtype: float64"
      ]
     },
     "execution_count": 19,
     "metadata": {},
     "output_type": "execute_result"
    }
   ],
   "source": [
    "df_train['9'].describe()"
   ]
  },
  {
   "cell_type": "markdown",
   "metadata": {},
   "source": [
    "We can see that feature 9 is a numerical variable with mean=3.67"
   ]
  },
  {
   "cell_type": "code",
   "execution_count": 20,
   "metadata": {},
   "outputs": [
    {
     "data": {
      "text/plain": [
       "0.0020105863526322268"
      ]
     },
     "execution_count": 20,
     "metadata": {},
     "output_type": "execute_result"
    }
   ],
   "source": [
    "df_train['9'].isnull().sum()/df_train['9'].count()"
   ]
  },
  {
   "cell_type": "markdown",
   "metadata": {},
   "source": [
    "Around than 0.2% missing values"
   ]
  },
  {
   "cell_type": "markdown",
   "metadata": {},
   "source": [
    "**Distribution**"
   ]
  },
  {
   "cell_type": "code",
   "execution_count": 21,
   "metadata": {},
   "outputs": [
    {
     "data": {
      "image/png": "[encoded data removed]",
      "text/plain": [
       "<Figure size 432x288 with 1 Axes>"
      ]
     },
     "metadata": {
      "needs_background": "light"
     },
     "output_type": "display_data"
    }
   ],
   "source": [
    "sns.distplot(df_train['9'].dropna());"
   ]
  },
  {
   "cell_type": "markdown",
   "metadata": {},
   "source": [
    "Looks like a gamma or a normal distribution"
   ]
  },
  {
   "cell_type": "markdown",
   "metadata": {},
   "source": [
    "**Let's see how it correlates with our labels**"
   ]
  },
  {
   "cell_type": "code",
   "execution_count": 22,
   "metadata": {},
   "outputs": [
    {
     "data": {
      "text/plain": [
       "<matplotlib.axes._subplots.AxesSubplot at 0x25b80ccc18>"
      ]
     },
     "execution_count": 22,
     "metadata": {},
     "output_type": "execute_result"
    },
    {
     "data": {
      "image/png": "[encoded data removed]",
      "text/plain": [
       "<Figure size 432x360 with 1 Axes>"
      ]
     },
     "metadata": {
      "needs_background": "light"
     },
     "output_type": "display_data"
    }
   ],
   "source": [
    "min, max = df_train['9'].min(), df_train['9'].max()\n",
    "bins = np.linspace(min, max, 20)\n",
    "\n",
    "# \"%.3f\" percision\n",
    "bins = list(np.around(np.array(bins),3))\n",
    "labels = bins[1:]\n",
    "\n",
    "rpt = (df_train.groupby(pd.cut(df_train['9'], bins, labels=labels)).label.mean()).dropna().to_frame('label')\n",
    "rpt.plot.bar(figsize=(6, 5))"
   ]
  },
  {
   "cell_type": "markdown",
   "metadata": {},
   "source": [
    "All of the samples from this feature have a mean smaller than 0.4 which means they are more likley to be labled 0"
   ]
  },
  {
   "cell_type": "markdown",
   "metadata": {},
   "source": [
    "Samples around the value 4.7 have a higher probability of being labeled 1"
   ]
  },
  {
   "cell_type": "markdown",
   "metadata": {},
   "source": [
    "**Feature '10'**"
   ]
  },
  {
   "cell_type": "code",
   "execution_count": 23,
   "metadata": {},
   "outputs": [
    {
     "data": {
      "text/plain": [
       "count    24370.000000\n",
       "mean        26.197359\n",
       "std         20.040483\n",
       "min        -50.339925\n",
       "25%         12.718312\n",
       "50%         26.192663\n",
       "75%         39.765982\n",
       "max        109.813493\n",
       "Name: 10, dtype: float64"
      ]
     },
     "execution_count": 23,
     "metadata": {},
     "output_type": "execute_result"
    }
   ],
   "source": [
    "df_train['10'].describe()"
   ]
  },
  {
   "cell_type": "code",
   "execution_count": 24,
   "metadata": {},
   "outputs": [
    {
     "data": {
      "text/plain": [
       "0.002051702913418137"
      ]
     },
     "execution_count": 24,
     "metadata": {},
     "output_type": "execute_result"
    }
   ],
   "source": [
    "df_train['10'].isnull().sum()/df_train['10'].count()"
   ]
  },
  {
   "cell_type": "markdown",
   "metadata": {},
   "source": [
    "Around than 0.2% missing values"
   ]
  },
  {
   "cell_type": "markdown",
   "metadata": {},
   "source": [
    "**Distribution**"
   ]
  },
  {
   "cell_type": "code",
   "execution_count": 25,
   "metadata": {},
   "outputs": [
    {
     "data": {
      "image/png": "[encoded data removed]",
      "text/plain": [
       "<Figure size 432x288 with 1 Axes>"
      ]
     },
     "metadata": {
      "needs_background": "light"
     },
     "output_type": "display_data"
    }
   ],
   "source": [
    "sns.distplot(df_train['10'].dropna());"
   ]
  },
  {
   "cell_type": "markdown",
   "metadata": {},
   "source": [
    "Looks like a gaussian distribution (mean=26.197, std=20.04)"
   ]
  },
  {
   "cell_type": "markdown",
   "metadata": {},
   "source": [
    "**Let's see how it correlates with our labels**"
   ]
  },
  {
   "cell_type": "code",
   "execution_count": 26,
   "metadata": {},
   "outputs": [
    {
     "data": {
      "text/plain": [
       "<matplotlib.axes._subplots.AxesSubplot at 0x25b8280160>"
      ]
     },
     "execution_count": 26,
     "metadata": {},
     "output_type": "execute_result"
    },
    {
     "data": {
      "image/png": "[encoded data removed]",
      "text/plain": [
       "<Figure size 432x360 with 1 Axes>"
      ]
     },
     "metadata": {
      "needs_background": "light"
     },
     "output_type": "display_data"
    }
   ],
   "source": [
    "min, max = df_train['10'].min(), df_train['10'].max()\n",
    "bins = np.linspace(min, max, 20)\n",
    "\n",
    "# \"%.3f\" percision\n",
    "bins = list(np.around(np.array(bins),3))\n",
    "labels = bins[1:]\n",
    "\n",
    "rpt = (df_train.groupby(pd.cut(df_train['10'], bins, labels=labels)).label.mean()).dropna().to_frame('label')\n",
    "rpt.plot.bar(figsize=(6, 5))"
   ]
  },
  {
   "cell_type": "markdown",
   "metadata": {},
   "source": [
    "This distribution looks uniform, most samples have a similar probability of being labeled 0"
   ]
  },
  {
   "cell_type": "markdown",
   "metadata": {},
   "source": [
    "The mean of most samples is somewere around 0.2-0.3 which means there is a higher probability of being labeled 0"
   ]
  },
  {
   "cell_type": "markdown",
   "metadata": {},
   "source": [
    "**Feature '11'**"
   ]
  },
  {
   "cell_type": "code",
   "execution_count": 27,
   "metadata": {},
   "outputs": [
    {
     "data": {
      "text/plain": [
       "count    24385.000000\n",
       "mean         6.370249\n",
       "std          1.231992\n",
       "min          2.979403\n",
       "25%          5.478522\n",
       "50%          6.333094\n",
       "75%          7.205337\n",
       "max         16.289653\n",
       "Name: 11, dtype: float64"
      ]
     },
     "execution_count": 27,
     "metadata": {},
     "output_type": "execute_result"
    }
   ],
   "source": [
    "df_train['11'].describe()"
   ]
  },
  {
   "cell_type": "code",
   "execution_count": 28,
   "metadata": {},
   "outputs": [
    {
     "data": {
      "text/plain": [
       "0.0014353085913471396"
      ]
     },
     "execution_count": 28,
     "metadata": {},
     "output_type": "execute_result"
    }
   ],
   "source": [
    "df_train['11'].isnull().sum()/df_train['11'].count()"
   ]
  },
  {
   "cell_type": "markdown",
   "metadata": {},
   "source": [
    "Around than 0.14% missing values"
   ]
  },
  {
   "cell_type": "markdown",
   "metadata": {},
   "source": [
    "**Distribution**"
   ]
  },
  {
   "cell_type": "code",
   "execution_count": 29,
   "metadata": {},
   "outputs": [
    {
     "data": {
      "image/png": "[encoded data removed]",
      "text/plain": [
       "<Figure size 432x288 with 1 Axes>"
      ]
     },
     "metadata": {
      "needs_background": "light"
     },
     "output_type": "display_data"
    }
   ],
   "source": [
    "sns.distplot(df_train['11'].dropna());"
   ]
  },
  {
   "cell_type": "markdown",
   "metadata": {},
   "source": [
    "Looks like a gaussian distribution (mean=6.37, std=1.23)"
   ]
  },
  {
   "cell_type": "markdown",
   "metadata": {},
   "source": [
    "**Let's see how it correlates with our labels**"
   ]
  },
  {
   "cell_type": "code",
   "execution_count": 30,
   "metadata": {},
   "outputs": [
    {
     "data": {
      "text/plain": [
       "<matplotlib.axes._subplots.AxesSubplot at 0x25b840a358>"
      ]
     },
     "execution_count": 30,
     "metadata": {},
     "output_type": "execute_result"
    },
    {
     "data": {
      "image/png": "[encoded data removed]",
      "text/plain": [
       "<Figure size 432x360 with 1 Axes>"
      ]
     },
     "metadata": {
      "needs_background": "light"
     },
     "output_type": "display_data"
    }
   ],
   "source": [
    "min, max = df_train['11'].min(), df_train['11'].max()\n",
    "bins = np.linspace(min, max, 20)\n",
    "\n",
    "# \"%.3f\" percision\n",
    "bins = list(np.around(np.array(bins),3))\n",
    "labels = bins[1:]\n",
    "\n",
    "rpt = (df_train.groupby(pd.cut(df_train['11'], bins, labels=labels)).label.mean()).dropna().to_frame('label')\n",
    "rpt.plot.bar(figsize=(6, 5))"
   ]
  },
  {
   "cell_type": "markdown",
   "metadata": {},
   "source": [
    "All of the samples from this feature have a mean smaller than 0.4 which means they are more likley to be labled 0"
   ]
  },
  {
   "cell_type": "markdown",
   "metadata": {},
   "source": [
    "Samples around the value 7.9 have a higher probability of being labeled 1"
   ]
  },
  {
   "cell_type": "markdown",
   "metadata": {},
   "source": [
    "**Feature '12'**"
   ]
  },
  {
   "cell_type": "code",
   "execution_count": 31,
   "metadata": {},
   "outputs": [
    {
     "data": {
      "text/plain": [
       "count    24348.000000\n",
       "mean      1265.287621\n",
       "std        699.914078\n",
       "min         81.900000\n",
       "25%        785.623333\n",
       "50%       1191.066667\n",
       "75%       1584.018333\n",
       "max       9702.900000\n",
       "Name: 12, dtype: float64"
      ]
     },
     "execution_count": 31,
     "metadata": {},
     "output_type": "execute_result"
    }
   ],
   "source": [
    "df_train['12'].describe()"
   ]
  },
  {
   "cell_type": "code",
   "execution_count": 32,
   "metadata": {},
   "outputs": [
    {
     "data": {
      "text/plain": [
       "0.002957121734844751"
      ]
     },
     "execution_count": 32,
     "metadata": {},
     "output_type": "execute_result"
    }
   ],
   "source": [
    "df_train['12'].isnull().sum()/df_train['12'].count()"
   ]
  },
  {
   "cell_type": "markdown",
   "metadata": {},
   "source": [
    "Around than 0.3% missing values"
   ]
  },
  {
   "cell_type": "markdown",
   "metadata": {},
   "source": [
    "**Distribution**"
   ]
  },
  {
   "cell_type": "code",
   "execution_count": 33,
   "metadata": {},
   "outputs": [
    {
     "data": {
      "image/png": "[encoded data removed]",
      "text/plain": [
       "<Figure size 432x288 with 1 Axes>"
      ]
     },
     "metadata": {
      "needs_background": "light"
     },
     "output_type": "display_data"
    }
   ],
   "source": [
    "sns.distplot(df_train['12'].dropna());"
   ]
  },
  {
   "cell_type": "markdown",
   "metadata": {},
   "source": [
    "Looks like a gamma or a normal distribution"
   ]
  },
  {
   "cell_type": "markdown",
   "metadata": {},
   "source": [
    "**Let's see how it correlates with our labels**"
   ]
  },
  {
   "cell_type": "code",
   "execution_count": 34,
   "metadata": {},
   "outputs": [
    {
     "data": {
      "text/plain": [
       "<matplotlib.axes._subplots.AxesSubplot at 0x25b84b0898>"
      ]
     },
     "execution_count": 34,
     "metadata": {},
     "output_type": "execute_result"
    },
    {
     "data": {
      "image/png": "[encoded data removed]",
      "text/plain": [
       "<Figure size 432x360 with 1 Axes>"
      ]
     },
     "metadata": {
      "needs_background": "light"
     },
     "output_type": "display_data"
    }
   ],
   "source": [
    "min, max = df_train['12'].min(), df_train['12'].max()\n",
    "bins = np.linspace(min, max, 20)\n",
    "\n",
    "# \"%.3f\" percision\n",
    "bins = list(np.around(np.array(bins),3))\n",
    "labels = bins[1:]\n",
    "\n",
    "rpt = (df_train.groupby(pd.cut(df_train['12'], bins, labels=labels)).label.mean()).dropna().to_frame('label')\n",
    "rpt.plot.bar(figsize=(6, 5))"
   ]
  },
  {
   "cell_type": "markdown",
   "metadata": {},
   "source": [
    "Hard to determine the correlation"
   ]
  },
  {
   "cell_type": "markdown",
   "metadata": {},
   "source": [
    "**Feature '13'**"
   ]
  },
  {
   "cell_type": "code",
   "execution_count": 35,
   "metadata": {},
   "outputs": [
    {
     "data": {
      "text/plain": [
       "count    24326.000000\n",
       "mean       100.988525\n",
       "std         26.709383\n",
       "min         10.000000\n",
       "25%         90.000000\n",
       "50%        100.000000\n",
       "75%        120.000000\n",
       "max        322.906667\n",
       "Name: 13, dtype: float64"
      ]
     },
     "execution_count": 35,
     "metadata": {},
     "output_type": "execute_result"
    }
   ],
   "source": [
    "df_train['13'].describe()"
   ]
  },
  {
   "cell_type": "code",
   "execution_count": 36,
   "metadata": {},
   "outputs": [
    {
     "data": {
      "text/plain": [
       "0.0038641782454986433"
      ]
     },
     "execution_count": 36,
     "metadata": {},
     "output_type": "execute_result"
    }
   ],
   "source": [
    "df_train['13'].isnull().sum()/df_train['13'].count()"
   ]
  },
  {
   "cell_type": "markdown",
   "metadata": {},
   "source": [
    "Around than 0.4% missing values"
   ]
  },
  {
   "cell_type": "markdown",
   "metadata": {},
   "source": [
    "**Distribution**"
   ]
  },
  {
   "cell_type": "code",
   "execution_count": 37,
   "metadata": {},
   "outputs": [
    {
     "data": {
      "image/png": "[encoded data removed]",
      "text/plain": [
       "<Figure size 432x288 with 1 Axes>"
      ]
     },
     "metadata": {
      "needs_background": "light"
     },
     "output_type": "display_data"
    }
   ],
   "source": [
    "sns.distplot(df_train['13'].dropna());"
   ]
  },
  {
   "cell_type": "markdown",
   "metadata": {},
   "source": [
    "**Let's see how it correlates with our labels**"
   ]
  },
  {
   "cell_type": "code",
   "execution_count": 38,
   "metadata": {},
   "outputs": [
    {
     "data": {
      "text/plain": [
       "<matplotlib.axes._subplots.AxesSubplot at 0x25b96ce9b0>"
      ]
     },
     "execution_count": 38,
     "metadata": {},
     "output_type": "execute_result"
    },
    {
     "data": {
      "image/png": "[encoded data removed]",
      "text/plain": [
       "<Figure size 432x360 with 1 Axes>"
      ]
     },
     "metadata": {
      "needs_background": "light"
     },
     "output_type": "display_data"
    }
   ],
   "source": [
    "min, max = df_train['13'].min(), df_train['13'].max()\n",
    "bins = np.linspace(min, max, 20)\n",
    "\n",
    "# \"%.3f\" percision\n",
    "bins = list(np.around(np.array(bins),3))\n",
    "labels = bins[1:]\n",
    "\n",
    "rpt = (df_train.groupby(pd.cut(df_train['13'], bins, labels=labels)).label.mean()).dropna().to_frame('label')\n",
    "rpt.plot.bar(figsize=(6, 5))"
   ]
  },
  {
   "cell_type": "markdown",
   "metadata": {},
   "source": [
    "We can see that up until the value of around 322 the probability of a sample from feature 13 of being labeled 1 is growing as the value of the feature grows. **This feature is correlated with the labels**"
   ]
  },
  {
   "cell_type": "markdown",
   "metadata": {},
   "source": [
    "**Feature '14'**"
   ]
  },
  {
   "cell_type": "code",
   "execution_count": 39,
   "metadata": {},
   "outputs": [
    {
     "data": {
      "text/plain": [
       "count    24344.000000\n",
       "mean       227.826768\n",
       "std         31.799264\n",
       "min         -2.099010\n",
       "25%        220.378101\n",
       "50%        230.440481\n",
       "75%        251.341828\n",
       "max        281.130118\n",
       "Name: 14, dtype: float64"
      ]
     },
     "execution_count": 39,
     "metadata": {},
     "output_type": "execute_result"
    }
   ],
   "source": [
    "df_train['14'].describe()"
   ]
  },
  {
   "cell_type": "code",
   "execution_count": 40,
   "metadata": {},
   "outputs": [
    {
     "data": {
      "text/plain": [
       "0.0031219191587249424"
      ]
     },
     "execution_count": 40,
     "metadata": {},
     "output_type": "execute_result"
    }
   ],
   "source": [
    "df_train['14'].isnull().sum()/df_train['14'].count()"
   ]
  },
  {
   "cell_type": "markdown",
   "metadata": {},
   "source": [
    "Around than 0.3% missing values"
   ]
  },
  {
   "cell_type": "markdown",
   "metadata": {},
   "source": [
    "**Distribution**"
   ]
  },
  {
   "cell_type": "code",
   "execution_count": 41,
   "metadata": {},
   "outputs": [
    {
     "data": {
      "image/png": "[encoded data removed]",
      "text/plain": [
       "<Figure size 432x288 with 1 Axes>"
      ]
     },
     "metadata": {
      "needs_background": "light"
     },
     "output_type": "display_data"
    }
   ],
   "source": [
    "sns.distplot(df_train['14'].dropna());"
   ]
  },
  {
   "cell_type": "markdown",
   "metadata": {},
   "source": [
    "Looks like two gaussians"
   ]
  },
  {
   "cell_type": "markdown",
   "metadata": {},
   "source": [
    "**Let's see how it correlates with our labels**"
   ]
  },
  {
   "cell_type": "code",
   "execution_count": 42,
   "metadata": {},
   "outputs": [
    {
     "data": {
      "text/plain": [
       "<matplotlib.axes._subplots.AxesSubplot at 0x25b83abc50>"
      ]
     },
     "execution_count": 42,
     "metadata": {},
     "output_type": "execute_result"
    },
    {
     "data": {
      "image/png": "[encoded data removed]",
      "text/plain": [
       "<Figure size 432x360 with 1 Axes>"
      ]
     },
     "metadata": {
      "needs_background": "light"
     },
     "output_type": "display_data"
    }
   ],
   "source": [
    "min, max = df_train['14'].min(), df_train['14'].max()\n",
    "bins = np.linspace(min, max, 20)\n",
    "\n",
    "# \"%.3f\" percision\n",
    "bins = list(np.around(np.array(bins),3))\n",
    "labels = bins[1:]\n",
    "\n",
    "rpt = (df_train.groupby(pd.cut(df_train['14'], bins, labels=labels)).label.mean()).dropna().to_frame('label')\n",
    "rpt.plot.bar(figsize=(6, 5))"
   ]
  },
  {
   "cell_type": "markdown",
   "metadata": {},
   "source": [
    "The probability of a samle from feature 14 of being labeled 1 is growing as the value of the feature grows. **This feature is correlated with the labels**"
   ]
  },
  {
   "cell_type": "markdown",
   "metadata": {},
   "source": [
    "**Feature '15'**"
   ]
  },
  {
   "cell_type": "code",
   "execution_count": 43,
   "metadata": {},
   "outputs": [
    {
     "data": {
      "text/plain": [
       "count    24383.000000\n",
       "mean         2.702128\n",
       "std          1.260845\n",
       "min         -2.421165\n",
       "25%          1.881987\n",
       "50%          2.690966\n",
       "75%          3.527378\n",
       "max         12.999779\n",
       "Name: 15, dtype: float64"
      ]
     },
     "execution_count": 43,
     "metadata": {},
     "output_type": "execute_result"
    }
   ],
   "source": [
    "df_train['15'].describe()"
   ]
  },
  {
   "cell_type": "code",
   "execution_count": 44,
   "metadata": {},
   "outputs": [
    {
     "data": {
      "text/plain": [
       "0.0015174506828528073"
      ]
     },
     "execution_count": 44,
     "metadata": {},
     "output_type": "execute_result"
    }
   ],
   "source": [
    "df_train['15'].isnull().sum()/df_train['15'].count()"
   ]
  },
  {
   "cell_type": "markdown",
   "metadata": {},
   "source": [
    "Around than 0.15% missing values"
   ]
  },
  {
   "cell_type": "markdown",
   "metadata": {},
   "source": [
    "**Distribution**"
   ]
  },
  {
   "cell_type": "code",
   "execution_count": 45,
   "metadata": {},
   "outputs": [
    {
     "data": {
      "image/png": "[encoded data removed]",
      "text/plain": [
       "<Figure size 432x288 with 1 Axes>"
      ]
     },
     "metadata": {
      "needs_background": "light"
     },
     "output_type": "display_data"
    }
   ],
   "source": [
    "sns.distplot(df_train['15'].dropna());"
   ]
  },
  {
   "cell_type": "markdown",
   "metadata": {},
   "source": [
    "Looks like a gaussian distribution (mean=2.7, std=1.26)"
   ]
  },
  {
   "cell_type": "markdown",
   "metadata": {},
   "source": [
    "**Let's see how it correlates with our labels**"
   ]
  },
  {
   "cell_type": "code",
   "execution_count": 46,
   "metadata": {},
   "outputs": [
    {
     "data": {
      "text/plain": [
       "<matplotlib.axes._subplots.AxesSubplot at 0x25b83d3a58>"
      ]
     },
     "execution_count": 46,
     "metadata": {},
     "output_type": "execute_result"
    },
    {
     "data": {
      "image/png": "[encoded data removed]",
      "text/plain": [
       "<Figure size 432x360 with 1 Axes>"
      ]
     },
     "metadata": {
      "needs_background": "light"
     },
     "output_type": "display_data"
    }
   ],
   "source": [
    "min, max = df_train['15'].min(), df_train['15'].max()\n",
    "bins = np.linspace(min, max, 20)\n",
    "\n",
    "# \"%.3f\" percision\n",
    "bins = list(np.around(np.array(bins),3))\n",
    "labels = bins[1:]\n",
    "\n",
    "rpt = (df_train.groupby(pd.cut(df_train['15'], bins, labels=labels)).label.mean()).dropna().to_frame('label')\n",
    "rpt.plot.bar(figsize=(6, 5))"
   ]
  },
  {
   "cell_type": "markdown",
   "metadata": {},
   "source": [
    "We can see that up until the value of around 13 the probability of a sample from feature 15 of being labeled 1 is growing as the value of the feature grows. **This feature is in some kind of correlation with the labels**"
   ]
  },
  {
   "cell_type": "markdown",
   "metadata": {},
   "source": [
    "**Feature '16'**"
   ]
  },
  {
   "cell_type": "code",
   "execution_count": 47,
   "metadata": {},
   "outputs": [
    {
     "data": {
      "text/plain": [
       "count    24414.000000\n",
       "mean       248.587052\n",
       "std        165.768605\n",
       "min          0.001017\n",
       "25%        112.874858\n",
       "50%        227.420680\n",
       "75%        356.658193\n",
       "max       1009.450163\n",
       "Name: 16, dtype: float64"
      ]
     },
     "execution_count": 47,
     "metadata": {},
     "output_type": "execute_result"
    }
   ],
   "source": [
    "df_train['16'].describe()"
   ]
  },
  {
   "cell_type": "code",
   "execution_count": 48,
   "metadata": {},
   "outputs": [
    {
     "data": {
      "text/plain": [
       "0.0002457606291472106"
      ]
     },
     "execution_count": 48,
     "metadata": {},
     "output_type": "execute_result"
    }
   ],
   "source": [
    "df_train['16'].isnull().sum()/df_train['16'].count()"
   ]
  },
  {
   "cell_type": "markdown",
   "metadata": {},
   "source": [
    "Less than 0.01% missing values"
   ]
  },
  {
   "cell_type": "markdown",
   "metadata": {},
   "source": [
    "**Distribution**"
   ]
  },
  {
   "cell_type": "code",
   "execution_count": 49,
   "metadata": {},
   "outputs": [
    {
     "data": {
      "image/png": "[encoded data removed]",
      "text/plain": [
       "<Figure size 432x288 with 1 Axes>"
      ]
     },
     "metadata": {
      "needs_background": "light"
     },
     "output_type": "display_data"
    }
   ],
   "source": [
    "sns.distplot(df_train['16'].dropna());"
   ]
  },
  {
   "cell_type": "markdown",
   "metadata": {},
   "source": [
    "Looks like a gamma or a normal distribution"
   ]
  },
  {
   "cell_type": "markdown",
   "metadata": {},
   "source": [
    "**Let's see how it correlates with our labels**"
   ]
  },
  {
   "cell_type": "code",
   "execution_count": 50,
   "metadata": {},
   "outputs": [
    {
     "data": {
      "text/plain": [
       "<matplotlib.axes._subplots.AxesSubplot at 0x25b9607588>"
      ]
     },
     "execution_count": 50,
     "metadata": {},
     "output_type": "execute_result"
    },
    {
     "data": {
      "image/png": "[encoded data removed]",
      "text/plain": [
       "<Figure size 432x360 with 1 Axes>"
      ]
     },
     "metadata": {
      "needs_background": "light"
     },
     "output_type": "display_data"
    }
   ],
   "source": [
    "min, max = df_train['16'].min(), df_train['16'].max()\n",
    "bins = np.linspace(min, max, 20)\n",
    "\n",
    "# \"%.3f\" percision\n",
    "bins = list(np.around(np.array(bins),3))\n",
    "labels = bins[1:]\n",
    "\n",
    "rpt = (df_train.groupby(pd.cut(df_train['16'], bins, labels=labels)).label.mean()).dropna().to_frame('label')\n",
    "rpt.plot.bar(figsize=(6, 5))"
   ]
  },
  {
   "cell_type": "markdown",
   "metadata": {},
   "source": [
    "This looks fairly uniform. Similar probability of being labeld 0 for all values. The mean of most values is less than 0.3"
   ]
  },
  {
   "cell_type": "markdown",
   "metadata": {},
   "source": [
    "**Feature '17'**"
   ]
  },
  {
   "cell_type": "code",
   "execution_count": 51,
   "metadata": {},
   "outputs": [
    {
     "data": {
      "text/plain": [
       "count    24399.000000\n",
       "mean         7.859953\n",
       "std         53.396269\n",
       "min          0.000000\n",
       "25%          0.000000\n",
       "50%          0.000000\n",
       "75%          0.000000\n",
       "max        714.000000\n",
       "Name: 17, dtype: float64"
      ]
     },
     "execution_count": 51,
     "metadata": {},
     "output_type": "execute_result"
    }
   ],
   "source": [
    "df_train['17'].describe()"
   ]
  },
  {
   "cell_type": "code",
   "execution_count": 52,
   "metadata": {},
   "outputs": [
    {
     "data": {
      "text/plain": [
       "0.0008606910119267183"
      ]
     },
     "execution_count": 52,
     "metadata": {},
     "output_type": "execute_result"
    }
   ],
   "source": [
    "df_train['17'].isnull().sum()/df_train['17'].count()"
   ]
  },
  {
   "cell_type": "markdown",
   "metadata": {},
   "source": [
    "Less than 0.01% missing values"
   ]
  },
  {
   "cell_type": "markdown",
   "metadata": {},
   "source": [
    "**Distribution**"
   ]
  },
  {
   "cell_type": "code",
   "execution_count": 53,
   "metadata": {},
   "outputs": [
    {
     "data": {
      "image/png": "[encoded data removed]",
      "text/plain": [
       "<Figure size 432x288 with 1 Axes>"
      ]
     },
     "metadata": {
      "needs_background": "light"
     },
     "output_type": "display_data"
    }
   ],
   "source": [
    "sns.distplot(df_train['17'].dropna());"
   ]
  },
  {
   "cell_type": "markdown",
   "metadata": {},
   "source": [
    "We can see that almost all of the samples from this feature are 0's"
   ]
  },
  {
   "cell_type": "markdown",
   "metadata": {},
   "source": [
    "**Let's see how it correlates with our labels**"
   ]
  },
  {
   "cell_type": "code",
   "execution_count": 54,
   "metadata": {},
   "outputs": [
    {
     "data": {
      "text/plain": [
       "<matplotlib.axes._subplots.AxesSubplot at 0x25b97c8e48>"
      ]
     },
     "execution_count": 54,
     "metadata": {},
     "output_type": "execute_result"
    },
    {
     "data": {
      "image/png": "[encoded data removed]",
      "text/plain": [
       "<Figure size 432x360 with 1 Axes>"
      ]
     },
     "metadata": {
      "needs_background": "light"
     },
     "output_type": "display_data"
    }
   ],
   "source": [
    "min, max = df_train['17'].min(), df_train['17'].max()\n",
    "bins = np.linspace(min, max, 30)\n",
    "\n",
    "# \"%.3f\" percision\n",
    "bins = list(np.around(np.array(bins),3))\n",
    "labels = bins[1:]\n",
    "\n",
    "rpt = (df_train.groupby(pd.cut(df_train['17'], bins, labels=labels)).label.mean()).dropna().to_frame('label')\n",
    "rpt.plot.bar(figsize=(6, 5))"
   ]
  },
  {
   "cell_type": "markdown",
   "metadata": {},
   "source": [
    "**We can see a correlation between this feature and the labels**. Almost all the labels with a values higher than 73 are labeld 1 while the rest are more likely to be labeld 0"
   ]
  },
  {
   "cell_type": "markdown",
   "metadata": {},
   "source": [
    "**Feature '18'**"
   ]
  },
  {
   "cell_type": "code",
   "execution_count": 55,
   "metadata": {},
   "outputs": [
    {
     "data": {
      "text/plain": [
       "count    24349.000000\n",
       "mean         0.627336\n",
       "std          2.882526\n",
       "min          0.000000\n",
       "25%          0.000000\n",
       "50%          0.000000\n",
       "75%          0.000000\n",
       "max         31.000000\n",
       "Name: 18, dtype: float64"
      ]
     },
     "execution_count": 55,
     "metadata": {},
     "output_type": "execute_result"
    }
   ],
   "source": [
    "df_train['18'].describe()"
   ]
  },
  {
   "cell_type": "code",
   "execution_count": 56,
   "metadata": {},
   "outputs": [
    {
     "data": {
      "text/plain": [
       "0.0029159308390488315"
      ]
     },
     "execution_count": 56,
     "metadata": {},
     "output_type": "execute_result"
    }
   ],
   "source": [
    "df_train['18'].isnull().sum()/df_train['18'].count()"
   ]
  },
  {
   "cell_type": "markdown",
   "metadata": {},
   "source": [
    "Less than 0.3% missing values"
   ]
  },
  {
   "cell_type": "markdown",
   "metadata": {},
   "source": [
    "**Distribution**"
   ]
  },
  {
   "cell_type": "code",
   "execution_count": 57,
   "metadata": {},
   "outputs": [
    {
     "data": {
      "image/png": "[encoded data removed]",
      "text/plain": [
       "<Figure size 432x288 with 1 Axes>"
      ]
     },
     "metadata": {
      "needs_background": "light"
     },
     "output_type": "display_data"
    }
   ],
   "source": [
    "sns.distplot(df_train['18'].dropna());"
   ]
  },
  {
   "cell_type": "markdown",
   "metadata": {},
   "source": [
    "We can see that almost all of the samples from this feature are 0's"
   ]
  },
  {
   "cell_type": "markdown",
   "metadata": {},
   "source": [
    "**Let's see how it correlates with our labels**"
   ]
  },
  {
   "cell_type": "code",
   "execution_count": 58,
   "metadata": {},
   "outputs": [
    {
     "data": {
      "text/plain": [
       "<matplotlib.axes._subplots.AxesSubplot at 0x25b990dd68>"
      ]
     },
     "execution_count": 58,
     "metadata": {},
     "output_type": "execute_result"
    },
    {
     "data": {
      "image/png": "[encoded data removed]",
      "text/plain": [
       "<Figure size 432x360 with 1 Axes>"
      ]
     },
     "metadata": {
      "needs_background": "light"
     },
     "output_type": "display_data"
    }
   ],
   "source": [
    "min, max = df_train['18'].min(), df_train['18'].max()\n",
    "bins = np.linspace(min, max, 20)\n",
    "\n",
    "# \"%.3f\" percision\n",
    "bins = list(np.around(np.array(bins),3))\n",
    "labels = bins[1:]\n",
    "\n",
    "rpt = (df_train.groupby(pd.cut(df_train['18'], bins, labels=labels)).label.mean()).dropna().to_frame('label')\n",
    "rpt.plot.bar(figsize=(6, 5))"
   ]
  },
  {
   "cell_type": "markdown",
   "metadata": {},
   "source": [
    "No visible correlation"
   ]
  },
  {
   "cell_type": "markdown",
   "metadata": {},
   "source": [
    "**Feature '19'**"
   ]
  },
  {
   "cell_type": "code",
   "execution_count": 59,
   "metadata": {},
   "outputs": [
    {
     "data": {
      "text/plain": [
       "count    24316.000000\n",
       "mean        81.088419\n",
       "std         24.746109\n",
       "min          2.000000\n",
       "25%         80.000000\n",
       "50%         80.000000\n",
       "75%         90.000000\n",
       "max        198.000000\n",
       "Name: 19, dtype: float64"
      ]
     },
     "execution_count": 59,
     "metadata": {},
     "output_type": "execute_result"
    }
   ],
   "source": [
    "df_train['19'].describe()"
   ]
  },
  {
   "cell_type": "code",
   "execution_count": 60,
   "metadata": {},
   "outputs": [
    {
     "data": {
      "text/plain": [
       "0.00427701924658661"
      ]
     },
     "execution_count": 60,
     "metadata": {},
     "output_type": "execute_result"
    }
   ],
   "source": [
    "df_train['19'].isnull().sum()/df_train['19'].count()"
   ]
  },
  {
   "cell_type": "markdown",
   "metadata": {},
   "source": [
    "Around 0.4% missing values"
   ]
  },
  {
   "cell_type": "markdown",
   "metadata": {},
   "source": [
    "**Distribution**"
   ]
  },
  {
   "cell_type": "code",
   "execution_count": 61,
   "metadata": {},
   "outputs": [
    {
     "data": {
      "image/png": "[encoded data removed]",
      "text/plain": [
       "<Figure size 432x288 with 1 Axes>"
      ]
     },
     "metadata": {
      "needs_background": "light"
     },
     "output_type": "display_data"
    }
   ],
   "source": [
    "sns.distplot(df_train['19'].dropna());"
   ]
  },
  {
   "cell_type": "markdown",
   "metadata": {},
   "source": [
    "**Let's see how it correlates with our labels**"
   ]
  },
  {
   "cell_type": "code",
   "execution_count": 62,
   "metadata": {},
   "outputs": [
    {
     "data": {
      "text/plain": [
       "<matplotlib.axes._subplots.AxesSubplot at 0x25b9704710>"
      ]
     },
     "execution_count": 62,
     "metadata": {},
     "output_type": "execute_result"
    },
    {
     "data": {
      "image/png": "[encoded data removed]",
      "text/plain": [
       "<Figure size 432x360 with 1 Axes>"
      ]
     },
     "metadata": {
      "needs_background": "light"
     },
     "output_type": "display_data"
    }
   ],
   "source": [
    "min, max = df_train['19'].min(), df_train['19'].max()\n",
    "bins = np.linspace(min, max, 20)\n",
    "\n",
    "# \"%.3f\" percision\n",
    "bins = list(np.around(np.array(bins),3))\n",
    "labels = bins[1:]\n",
    "\n",
    "rpt = (df_train.groupby(pd.cut(df_train['19'], bins, labels=labels)).label.mean()).dropna().to_frame('label')\n",
    "rpt.plot.bar(figsize=(6, 5))"
   ]
  },
  {
   "cell_type": "markdown",
   "metadata": {},
   "source": [
    "No visible correlation"
   ]
  },
  {
   "cell_type": "markdown",
   "metadata": {},
   "source": [
    "**Feature '20'**"
   ]
  },
  {
   "cell_type": "code",
   "execution_count": 63,
   "metadata": {},
   "outputs": [
    {
     "data": {
      "text/plain": [
       "count    24322.000000\n",
       "mean         4.070039\n",
       "std          1.687357\n",
       "min         -3.000000\n",
       "25%          3.000000\n",
       "50%          4.000000\n",
       "75%          5.000000\n",
       "max         18.303329\n",
       "Name: 20, dtype: float64"
      ]
     },
     "execution_count": 63,
     "metadata": {},
     "output_type": "execute_result"
    }
   ],
   "source": [
    "df_train['20'].describe()"
   ]
  },
  {
   "cell_type": "code",
   "execution_count": 64,
   "metadata": {},
   "outputs": [
    {
     "data": {
      "text/plain": [
       "0.004029273908395691"
      ]
     },
     "execution_count": 64,
     "metadata": {},
     "output_type": "execute_result"
    }
   ],
   "source": [
    "df_train['20'].isnull().sum()/df_train['20'].count()"
   ]
  },
  {
   "cell_type": "markdown",
   "metadata": {},
   "source": [
    "Around 0.4% missing values"
   ]
  },
  {
   "cell_type": "markdown",
   "metadata": {},
   "source": [
    "**Distribution**"
   ]
  },
  {
   "cell_type": "code",
   "execution_count": 65,
   "metadata": {},
   "outputs": [
    {
     "data": {
      "image/png": "[encoded data removed]",
      "text/plain": [
       "<Figure size 432x288 with 1 Axes>"
      ]
     },
     "metadata": {
      "needs_background": "light"
     },
     "output_type": "display_data"
    }
   ],
   "source": [
    "sns.distplot(df_train['20'].dropna());"
   ]
  },
  {
   "cell_type": "markdown",
   "metadata": {},
   "source": [
    "Looks like a gaussian distribution (mean=4.07, std=1.68)"
   ]
  },
  {
   "cell_type": "markdown",
   "metadata": {},
   "source": [
    "**Let's see how it correlates with our labels**"
   ]
  },
  {
   "cell_type": "code",
   "execution_count": 66,
   "metadata": {},
   "outputs": [
    {
     "data": {
      "text/plain": [
       "<matplotlib.axes._subplots.AxesSubplot at 0x25b83a1b70>"
      ]
     },
     "execution_count": 66,
     "metadata": {},
     "output_type": "execute_result"
    },
    {
     "data": {
      "image/png": "[encoded data removed]",
      "text/plain": [
       "<Figure size 432x360 with 1 Axes>"
      ]
     },
     "metadata": {
      "needs_background": "light"
     },
     "output_type": "display_data"
    }
   ],
   "source": [
    "min, max = df_train['20'].min(), df_train['20'].max()\n",
    "bins = np.linspace(min, max, 20)\n",
    "\n",
    "# \"%.3f\" percision\n",
    "bins = list(np.around(np.array(bins),3))\n",
    "labels = bins[1:]\n",
    "\n",
    "rpt = (df_train.groupby(pd.cut(df_train['20'], bins, labels=labels)).label.mean()).dropna().to_frame('label')\n",
    "rpt.plot.bar(figsize=(6, 5))"
   ]
  },
  {
   "cell_type": "markdown",
   "metadata": {},
   "source": [
    "## Categorial variables"
   ]
  },
  {
   "cell_type": "markdown",
   "metadata": {},
   "source": [
    "**Feature '0'**"
   ]
  },
  {
   "cell_type": "code",
   "execution_count": 67,
   "metadata": {},
   "outputs": [
    {
     "data": {
      "text/plain": [
       "count     23007\n",
       "unique        7\n",
       "top           A\n",
       "freq      16974\n",
       "Name: 0, dtype: object"
      ]
     },
     "execution_count": 67,
     "metadata": {},
     "output_type": "execute_result"
    }
   ],
   "source": [
    "df_train['0'].describe()"
   ]
  },
  {
   "cell_type": "markdown",
   "metadata": {},
   "source": [
    "**Frequency of each category**"
   ]
  },
  {
   "cell_type": "code",
   "execution_count": 68,
   "metadata": {},
   "outputs": [
    {
     "data": {
      "image/png": "[encoded data removed]",
      "text/plain": [
       "<Figure size 432x288 with 1 Axes>"
      ]
     },
     "metadata": {},
     "output_type": "display_data"
    }
   ],
   "source": [
    "labels = df_train['0'].value_counts().index.tolist()\n",
    "counts = df_train['0'].value_counts().values.tolist()\n",
    "fig1, ax1 = plt.subplots()\n",
    "ax1.pie(counts, labels=labels, autopct='%1.1f%%')\n",
    "ax1.axis([0, 2, -1, 0.4])\n",
    "plt.show()"
   ]
  },
  {
   "cell_type": "markdown",
   "metadata": {},
   "source": [
    "Most of the samples from feature 0 are of category A"
   ]
  },
  {
   "cell_type": "markdown",
   "metadata": {},
   "source": [
    "**Let's see how it correlates with our labels**"
   ]
  },
  {
   "cell_type": "code",
   "execution_count": 69,
   "metadata": {},
   "outputs": [
    {
     "data": {
      "text/plain": [
       "<matplotlib.axes._subplots.AxesSubplot at 0x25b853a470>"
      ]
     },
     "execution_count": 69,
     "metadata": {},
     "output_type": "execute_result"
    },
    {
     "data": {
      "image/png": "[encoded data removed]",
      "text/plain": [
       "<Figure size 432x360 with 1 Axes>"
      ]
     },
     "metadata": {
      "needs_background": "light"
     },
     "output_type": "display_data"
    }
   ],
   "source": [
    "rpt = (df_train.groupby(df_train['0']).label.mean()).dropna()\n",
    "rpt.plot.bar(figsize=(6, 5))"
   ]
  },
  {
   "cell_type": "markdown",
   "metadata": {},
   "source": [
    "Most of the categories have a low mean. This makes sense as e saw earlier that most of the labels in our dataset are 0's. The category E have a mean above 0.5"
   ]
  },
  {
   "cell_type": "markdown",
   "metadata": {},
   "source": [
    "**Feature '2'**"
   ]
  },
  {
   "cell_type": "code",
   "execution_count": 70,
   "metadata": {},
   "outputs": [
    {
     "data": {
      "text/plain": [
       "count     24419\n",
       "unique        7\n",
       "top           E\n",
       "freq      11246\n",
       "Name: 2, dtype: object"
      ]
     },
     "execution_count": 70,
     "metadata": {},
     "output_type": "execute_result"
    }
   ],
   "source": [
    "df_train['2'].describe()"
   ]
  },
  {
   "cell_type": "markdown",
   "metadata": {},
   "source": [
    "**Frequency of each category**"
   ]
  },
  {
   "cell_type": "code",
   "execution_count": 71,
   "metadata": {},
   "outputs": [
    {
     "data": {
      "image/png": "[encoded data removed]",
      "text/plain": [
       "<Figure size 432x288 with 1 Axes>"
      ]
     },
     "metadata": {},
     "output_type": "display_data"
    }
   ],
   "source": [
    "labels = df_train['2'].value_counts().index.tolist()\n",
    "counts = df_train['2'].value_counts().values.tolist()\n",
    "fig1, ax1 = plt.subplots()\n",
    "ax1.pie(counts, labels=labels, autopct='%1.1f%%')\n",
    "ax1.axis([0, 2, -1, 0.4])\n",
    "plt.show()"
   ]
  },
  {
   "cell_type": "markdown",
   "metadata": {},
   "source": [
    "We can see a that most of the categories are E, D or B"
   ]
  },
  {
   "cell_type": "markdown",
   "metadata": {},
   "source": [
    "**Let's see how it correlates with our labels**"
   ]
  },
  {
   "cell_type": "code",
   "execution_count": 72,
   "metadata": {},
   "outputs": [
    {
     "data": {
      "text/plain": [
       "<matplotlib.axes._subplots.AxesSubplot at 0x25b9893b00>"
      ]
     },
     "execution_count": 72,
     "metadata": {},
     "output_type": "execute_result"
    },
    {
     "data": {
      "image/png": "[encoded data removed]",
      "text/plain": [
       "<Figure size 432x360 with 1 Axes>"
      ]
     },
     "metadata": {
      "needs_background": "light"
     },
     "output_type": "display_data"
    }
   ],
   "source": [
    "rpt = (df_train.groupby(df_train['2']).label.mean()).dropna()\n",
    "rpt.plot.bar(figsize=(6, 5))"
   ]
  },
  {
   "cell_type": "markdown",
   "metadata": {},
   "source": [
    "Low mean for A, B, C, D and G. Mean close to 0.5 of E and F"
   ]
  },
  {
   "cell_type": "markdown",
   "metadata": {},
   "source": [
    "**Feature '3'**"
   ]
  },
  {
   "cell_type": "code",
   "execution_count": 73,
   "metadata": {},
   "outputs": [
    {
     "data": {
      "text/plain": [
       "count     24381\n",
       "unique       15\n",
       "top           T\n",
       "freq       3117\n",
       "Name: 3, dtype: object"
      ]
     },
     "execution_count": 73,
     "metadata": {},
     "output_type": "execute_result"
    }
   ],
   "source": [
    "df_train['3'].describe()"
   ]
  },
  {
   "cell_type": "markdown",
   "metadata": {},
   "source": [
    "**Frequency of each category**"
   ]
  },
  {
   "cell_type": "code",
   "execution_count": 74,
   "metadata": {},
   "outputs": [
    {
     "data": {
      "image/png": "[encoded data removed]",
      "text/plain": [
       "<Figure size 432x288 with 1 Axes>"
      ]
     },
     "metadata": {},
     "output_type": "display_data"
    }
   ],
   "source": [
    "labels = df_train['3'].value_counts().index.tolist()\n",
    "counts = df_train['3'].value_counts().values.tolist()\n",
    "fig1, ax1 = plt.subplots()\n",
    "ax1.pie(counts, labels=labels, autopct='%1.1f%%', startangle=180)\n",
    "ax1.axis([0, 2, -1, 0.4])\n",
    "plt.show()"
   ]
  },
  {
   "cell_type": "markdown",
   "metadata": {},
   "source": [
    "Many categories. 5.5% are labels unknown, we shall handle that later"
   ]
  },
  {
   "cell_type": "markdown",
   "metadata": {},
   "source": [
    "**Let's see how it correlates with our labels**"
   ]
  },
  {
   "cell_type": "code",
   "execution_count": 75,
   "metadata": {},
   "outputs": [
    {
     "data": {
      "text/plain": [
       "<matplotlib.axes._subplots.AxesSubplot at 0x25b9a52cf8>"
      ]
     },
     "execution_count": 75,
     "metadata": {},
     "output_type": "execute_result"
    },
    {
     "data": {
      "image/png": "[encoded data removed]",
      "text/plain": [
       "<Figure size 432x360 with 1 Axes>"
      ]
     },
     "metadata": {
      "needs_background": "light"
     },
     "output_type": "display_data"
    }
   ],
   "source": [
    "rpt = (df_train.groupby(df_train['3']).label.mean()).dropna()\n",
    "rpt.plot.bar(figsize=(6, 5))"
   ]
  },
  {
   "cell_type": "markdown",
   "metadata": {},
   "source": [
    "R and T have a mean close to 0.5 while all the rest have a low mean"
   ]
  },
  {
   "cell_type": "markdown",
   "metadata": {},
   "source": [
    "**Feature '5'**"
   ]
  },
  {
   "cell_type": "code",
   "execution_count": 76,
   "metadata": {},
   "outputs": [
    {
     "data": {
      "text/plain": [
       "count     24318\n",
       "unique        6\n",
       "top           e\n",
       "freq       9864\n",
       "Name: 5, dtype: object"
      ]
     },
     "execution_count": 76,
     "metadata": {},
     "output_type": "execute_result"
    }
   ],
   "source": [
    "df_train['5'].describe()"
   ]
  },
  {
   "cell_type": "markdown",
   "metadata": {},
   "source": [
    "**Frequency of each category**"
   ]
  },
  {
   "cell_type": "code",
   "execution_count": 77,
   "metadata": {},
   "outputs": [
    {
     "data": {
      "image/png": "[encoded data removed]",
      "text/plain": [
       "<Figure size 432x288 with 1 Axes>"
      ]
     },
     "metadata": {},
     "output_type": "display_data"
    }
   ],
   "source": [
    "labels = df_train['5'].value_counts().index.tolist()\n",
    "counts = df_train['5'].value_counts().values.tolist()\n",
    "fig1, ax1 = plt.subplots()\n",
    "ax1.pie(counts, labels=labels, autopct='%1.1f%%', startangle=180)\n",
    "ax1.axis([0, 2, -1, 0.4])\n",
    "plt.show()"
   ]
  },
  {
   "cell_type": "markdown",
   "metadata": {},
   "source": [
    "**Let's see how it correlates with our labels**"
   ]
  },
  {
   "cell_type": "code",
   "execution_count": 78,
   "metadata": {},
   "outputs": [
    {
     "data": {
      "text/plain": [
       "<matplotlib.axes._subplots.AxesSubplot at 0x25b9b31f28>"
      ]
     },
     "execution_count": 78,
     "metadata": {},
     "output_type": "execute_result"
    },
    {
     "data": {
      "image/png": "[encoded data removed]",
      "text/plain": [
       "<Figure size 432x360 with 1 Axes>"
      ]
     },
     "metadata": {
      "needs_background": "light"
     },
     "output_type": "display_data"
    }
   ],
   "source": [
    "rpt = (df_train.groupby(df_train['5']).label.mean()).dropna()\n",
    "rpt.plot.bar(figsize=(6, 5))"
   ]
  },
  {
   "cell_type": "markdown",
   "metadata": {},
   "source": [
    "e and f are close to a random label while the rest have a mean less than 0.1"
   ]
  },
  {
   "cell_type": "markdown",
   "metadata": {},
   "source": [
    "**Feature '6'**"
   ]
  },
  {
   "cell_type": "code",
   "execution_count": 79,
   "metadata": {},
   "outputs": [
    {
     "data": {
      "text/plain": [
       "count     24353\n",
       "unique        5\n",
       "top           A\n",
       "freq      20795\n",
       "Name: 6, dtype: object"
      ]
     },
     "execution_count": 79,
     "metadata": {},
     "output_type": "execute_result"
    }
   ],
   "source": [
    "df_train['6'].describe()"
   ]
  },
  {
   "cell_type": "markdown",
   "metadata": {},
   "source": [
    "**Frequency of each category**"
   ]
  },
  {
   "cell_type": "code",
   "execution_count": 80,
   "metadata": {},
   "outputs": [
    {
     "data": {
      "image/png": "[encoded data removed]",
      "text/plain": [
       "<Figure size 432x288 with 1 Axes>"
      ]
     },
     "metadata": {},
     "output_type": "display_data"
    }
   ],
   "source": [
    "labels = df_train['6'].value_counts().index.tolist()\n",
    "counts = df_train['6'].value_counts().values.tolist()\n",
    "fig1, ax1 = plt.subplots()\n",
    "ax1.pie(counts, labels=labels, autopct='%1.1f%%')\n",
    "ax1.axis([0, 2, -1, 0.4])\n",
    "plt.show()"
   ]
  },
  {
   "cell_type": "markdown",
   "metadata": {},
   "source": [
    "Over 85% are A"
   ]
  },
  {
   "cell_type": "markdown",
   "metadata": {},
   "source": [
    "**Let's see how it correlates with our labels**"
   ]
  },
  {
   "cell_type": "code",
   "execution_count": 81,
   "metadata": {},
   "outputs": [
    {
     "data": {
      "text/plain": [
       "<matplotlib.axes._subplots.AxesSubplot at 0x25b9bdedd8>"
      ]
     },
     "execution_count": 81,
     "metadata": {},
     "output_type": "execute_result"
    },
    {
     "data": {
      "image/png": "[encoded data removed]",
      "text/plain": [
       "<Figure size 432x360 with 1 Axes>"
      ]
     },
     "metadata": {
      "needs_background": "light"
     },
     "output_type": "display_data"
    }
   ],
   "source": [
    "rpt = (df_train.groupby(df_train['6']).label.mean()).dropna()\n",
    "rpt.plot.bar(figsize=(6, 5))"
   ]
  },
  {
   "cell_type": "markdown",
   "metadata": {},
   "source": [
    "**Feature '8'**"
   ]
  },
  {
   "cell_type": "code",
   "execution_count": 82,
   "metadata": {},
   "outputs": [
    {
     "data": {
      "text/plain": [
       "count     24417\n",
       "unique       42\n",
       "top          c0\n",
       "freq      21850\n",
       "Name: 8, dtype: object"
      ]
     },
     "execution_count": 82,
     "metadata": {},
     "output_type": "execute_result"
    }
   ],
   "source": [
    "df_train['8'].describe()"
   ]
  },
  {
   "cell_type": "markdown",
   "metadata": {},
   "source": [
    "**Frequency of each category**"
   ]
  },
  {
   "cell_type": "code",
   "execution_count": 83,
   "metadata": {},
   "outputs": [
    {
     "data": {
      "image/png": "[encoded data removed]",
      "text/plain": [
       "<Figure size 432x288 with 1 Axes>"
      ]
     },
     "metadata": {},
     "output_type": "display_data"
    }
   ],
   "source": [
    "labels = df_train['8'].value_counts().index.tolist()\n",
    "counts = df_train['8'].value_counts().values.tolist()\n",
    "fig1, ax1 = plt.subplots()\n",
    "ax1.pie(counts, labels=labels, autopct='%1.1f%%', startangle=90) \n",
    "ax1.axis([0, 2, -1, 0.4])\n",
    "plt.show()"
   ]
  },
  {
   "cell_type": "markdown",
   "metadata": {},
   "source": [
    "There are 42 categories for feature 8. c0 is the most common of them with 89.5%. Some of the samples are labeled ?, we shall handle that later"
   ]
  },
  {
   "cell_type": "markdown",
   "metadata": {},
   "source": [
    "**Let's see how it correlates with our labels**"
   ]
  },
  {
   "cell_type": "code",
   "execution_count": 84,
   "metadata": {},
   "outputs": [
    {
     "data": {
      "text/plain": [
       "<matplotlib.axes._subplots.AxesSubplot at 0x25b9c45f98>"
      ]
     },
     "execution_count": 84,
     "metadata": {},
     "output_type": "execute_result"
    },
    {
     "data": {
      "image/png": "[encoded data removed]",
      "text/plain": [
       "<Figure size 432x360 with 1 Axes>"
      ]
     },
     "metadata": {
      "needs_background": "light"
     },
     "output_type": "display_data"
    }
   ],
   "source": [
    "rpt = (df_train.groupby(df_train['8']).label.mean()).dropna()\n",
    "rpt.plot.bar(figsize=(6, 5))"
   ]
  },
  {
   "cell_type": "markdown",
   "metadata": {},
   "source": [
    "No visible correlation"
   ]
  },
  {
   "cell_type": "markdown",
   "metadata": {},
   "source": [
    "## Let us analyze again the missing data from all the features:"
   ]
  },
  {
   "cell_type": "markdown",
   "metadata": {},
   "source": [
    "questions we want to ask:\n",
    "* How prevalent is the missing data?\n",
    "* Is missing data random or does it have a pattern?"
   ]
  },
  {
   "cell_type": "code",
   "execution_count": 85,
   "metadata": {},
   "outputs": [
    {
     "data": {
      "text/html": [
       "<div>\n",
       "<style scoped>\n",
       "    .dataframe tbody tr th:only-of-type {\n",
       "        vertical-align: middle;\n",
       "    }\n",
       "\n",
       "    .dataframe tbody tr th {\n",
       "        vertical-align: top;\n",
       "    }\n",
       "\n",
       "    .dataframe thead th {\n",
       "        text-align: right;\n",
       "    }\n",
       "</style>\n",
       "<table border=\"1\" class=\"dataframe\">\n",
       "  <thead>\n",
       "    <tr style=\"text-align: right;\">\n",
       "      <th></th>\n",
       "      <th>Total</th>\n",
       "      <th>Percent</th>\n",
       "    </tr>\n",
       "  </thead>\n",
       "  <tbody>\n",
       "    <tr>\n",
       "      <th>0</th>\n",
       "      <td>1413</td>\n",
       "      <td>0.057862</td>\n",
       "    </tr>\n",
       "    <tr>\n",
       "      <th>19</th>\n",
       "      <td>104</td>\n",
       "      <td>0.004259</td>\n",
       "    </tr>\n",
       "    <tr>\n",
       "      <th>5</th>\n",
       "      <td>102</td>\n",
       "      <td>0.004177</td>\n",
       "    </tr>\n",
       "    <tr>\n",
       "      <th>20</th>\n",
       "      <td>98</td>\n",
       "      <td>0.004013</td>\n",
       "    </tr>\n",
       "    <tr>\n",
       "      <th>13</th>\n",
       "      <td>94</td>\n",
       "      <td>0.003849</td>\n",
       "    </tr>\n",
       "    <tr>\n",
       "      <th>1</th>\n",
       "      <td>89</td>\n",
       "      <td>0.003645</td>\n",
       "    </tr>\n",
       "    <tr>\n",
       "      <th>7</th>\n",
       "      <td>82</td>\n",
       "      <td>0.003358</td>\n",
       "    </tr>\n",
       "    <tr>\n",
       "      <th>14</th>\n",
       "      <td>76</td>\n",
       "      <td>0.003112</td>\n",
       "    </tr>\n",
       "    <tr>\n",
       "      <th>12</th>\n",
       "      <td>72</td>\n",
       "      <td>0.002948</td>\n",
       "    </tr>\n",
       "    <tr>\n",
       "      <th>18</th>\n",
       "      <td>71</td>\n",
       "      <td>0.002907</td>\n",
       "    </tr>\n",
       "    <tr>\n",
       "      <th>6</th>\n",
       "      <td>67</td>\n",
       "      <td>0.002744</td>\n",
       "    </tr>\n",
       "    <tr>\n",
       "      <th>10</th>\n",
       "      <td>50</td>\n",
       "      <td>0.002048</td>\n",
       "    </tr>\n",
       "    <tr>\n",
       "      <th>9</th>\n",
       "      <td>49</td>\n",
       "      <td>0.002007</td>\n",
       "    </tr>\n",
       "    <tr>\n",
       "      <th>4</th>\n",
       "      <td>45</td>\n",
       "      <td>0.001843</td>\n",
       "    </tr>\n",
       "    <tr>\n",
       "      <th>3</th>\n",
       "      <td>39</td>\n",
       "      <td>0.001597</td>\n",
       "    </tr>\n",
       "    <tr>\n",
       "      <th>15</th>\n",
       "      <td>37</td>\n",
       "      <td>0.001515</td>\n",
       "    </tr>\n",
       "    <tr>\n",
       "      <th>11</th>\n",
       "      <td>35</td>\n",
       "      <td>0.001433</td>\n",
       "    </tr>\n",
       "    <tr>\n",
       "      <th>17</th>\n",
       "      <td>21</td>\n",
       "      <td>0.000860</td>\n",
       "    </tr>\n",
       "    <tr>\n",
       "      <th>16</th>\n",
       "      <td>6</td>\n",
       "      <td>0.000246</td>\n",
       "    </tr>\n",
       "    <tr>\n",
       "      <th>8</th>\n",
       "      <td>3</td>\n",
       "      <td>0.000123</td>\n",
       "    </tr>\n",
       "  </tbody>\n",
       "</table>\n",
       "</div>"
      ],
      "text/plain": [
       "    Total   Percent\n",
       "0    1413  0.057862\n",
       "19    104  0.004259\n",
       "5     102  0.004177\n",
       "20     98  0.004013\n",
       "13     94  0.003849\n",
       "1      89  0.003645\n",
       "7      82  0.003358\n",
       "14     76  0.003112\n",
       "12     72  0.002948\n",
       "18     71  0.002907\n",
       "6      67  0.002744\n",
       "10     50  0.002048\n",
       "9      49  0.002007\n",
       "4      45  0.001843\n",
       "3      39  0.001597\n",
       "15     37  0.001515\n",
       "11     35  0.001433\n",
       "17     21  0.000860\n",
       "16      6  0.000246\n",
       "8       3  0.000123"
      ]
     },
     "execution_count": 85,
     "metadata": {},
     "output_type": "execute_result"
    }
   ],
   "source": [
    "total = df_train.isnull().sum().sort_values(ascending=False)\n",
    "percent = (df_train.isnull().sum()/df_train.isnull().count()).sort_values(ascending=False)\n",
    "missing_data = pd.concat([total, percent], axis=1, keys=['Total', 'Percent'])\n",
    "missing_data.head(20)"
   ]
  },
  {
   "cell_type": "markdown",
   "metadata": {},
   "source": [
    "### Short summery:\n",
    "* Feature 1 (bool) 1 doesn't look like any familiar distribution and is in correlation with the labels\n",
    "* Feature 8 (categorial) has 43 different categories\n",
    "* Feature 9 (numerical) resembles the gamma distribution, it's label probability is bell shaped with a mean=4.7\n",
    "* Feature 10 (numerical) looks like a gaussian distribution (mean=26.197, std=20.04), it's label probability looks uniformly distributed\n",
    "* Feature 11 (numerical) looks like a gaussian distribution (mean=6.37, std=1.23), it's label probability is bell shaped with a mean=7.9\n",
    "* Feature 12 (numerical) looks like gamma distribution\n",
    "* Feature 13  (numerical) doesn't look like any familiar distribution,  it is correlated with the labels probability\n",
    "* Feature 14  (numerical) looks a lot like a shifted version of feature 13, it is correlated with the labels probability\n",
    "* Feature 15 (numerical) looks like a gaussian distribution (mean=2.7, std=1.26),  it is correlated with the labels probability\n",
    "* Feature 16 (numerical) llike gamma distribution\n",
    "* Feature 17 (numerical) is highly biased - the majority of the samples are 0, there is a correlation between the feature and the labels probability\n",
    "* Feature 18 (numerical) is highly biased - the majority of the samples are 0\n",
    "* Feature 19 (numerical) most of the samples are centered around the value 80.0\n",
    "* Feature 20 (numerical) looks like a gaussian distribution (mean=4.07, std=1.68)"
   ]
  },
  {
   "cell_type": "markdown",
   "metadata": {},
   "source": [
    "No significant insight from other features"
   ]
  },
  {
   "cell_type": "markdown",
   "metadata": {},
   "source": [
    "We saw each feature's distribution and correlation with the labels."
   ]
  },
  {
   "cell_type": "markdown",
   "metadata": {},
   "source": [
    "## Collinear features"
   ]
  },
  {
   "cell_type": "markdown",
   "metadata": {},
   "source": [
    "We'll use the `FeatureSelector` tool to look for collinear features. Collinear features are features that are highly correlated with one another. In machine learning, these lead to decreased generalization performance on the test set due to high variance and less model interpretability. The tool will find  collinear features based on the correlation coefficient between features. For each pair of features with a correlation coefficient greather than `correlation_threshold`, only one of the pair is recommended for removal. correlations are only calculated between numeric columns."
   ]
  },
  {
   "cell_type": "code",
   "execution_count": 86,
   "metadata": {},
   "outputs": [
    {
     "name": "stdout",
     "output_type": "stream",
     "text": [
      "3 features with a correlation magnitude greater than 0.80.\n",
      "\n"
     ]
    }
   ],
   "source": [
    "fs_analyze = FeatureSelector(data = df_train.drop(columns = ['label']), labels = df_train['label'])\n",
    "fs_analyze.identify_collinear(correlation_threshold=0.8)"
   ]
  },
  {
   "cell_type": "code",
   "execution_count": 87,
   "metadata": {},
   "outputs": [
    {
     "data": {
      "text/html": [
       "<div>\n",
       "<style scoped>\n",
       "    .dataframe tbody tr th:only-of-type {\n",
       "        vertical-align: middle;\n",
       "    }\n",
       "\n",
       "    .dataframe tbody tr th {\n",
       "        vertical-align: top;\n",
       "    }\n",
       "\n",
       "    .dataframe thead th {\n",
       "        text-align: right;\n",
       "    }\n",
       "</style>\n",
       "<table border=\"1\" class=\"dataframe\">\n",
       "  <thead>\n",
       "    <tr style=\"text-align: right;\">\n",
       "      <th></th>\n",
       "      <th>drop_feature</th>\n",
       "      <th>corr_feature</th>\n",
       "      <th>corr_value</th>\n",
       "    </tr>\n",
       "  </thead>\n",
       "  <tbody>\n",
       "    <tr>\n",
       "      <th>0</th>\n",
       "      <td>11</td>\n",
       "      <td>9</td>\n",
       "      <td>0.882835</td>\n",
       "    </tr>\n",
       "    <tr>\n",
       "      <th>1</th>\n",
       "      <td>13</td>\n",
       "      <td>1</td>\n",
       "      <td>0.874289</td>\n",
       "    </tr>\n",
       "    <tr>\n",
       "      <th>2</th>\n",
       "      <td>14</td>\n",
       "      <td>1</td>\n",
       "      <td>0.921297</td>\n",
       "    </tr>\n",
       "    <tr>\n",
       "      <th>3</th>\n",
       "      <td>14</td>\n",
       "      <td>13</td>\n",
       "      <td>0.921564</td>\n",
       "    </tr>\n",
       "  </tbody>\n",
       "</table>\n",
       "</div>"
      ],
      "text/plain": [
       "  drop_feature corr_feature  corr_value\n",
       "0           11            9    0.882835\n",
       "1           13            1    0.874289\n",
       "2           14            1    0.921297\n",
       "3           14           13    0.921564"
      ]
     },
     "execution_count": 87,
     "metadata": {},
     "output_type": "execute_result"
    }
   ],
   "source": [
    "fs_analyze.record_collinear"
   ]
  },
  {
   "cell_type": "code",
   "execution_count": 88,
   "metadata": {},
   "outputs": [
    {
     "data": {
      "image/png": "[encoded data removed]",
      "text/plain": [
       "<Figure size 576x432 with 2 Axes>"
      ]
     },
     "metadata": {
      "needs_background": "light"
     },
     "output_type": "display_data"
    }
   ],
   "source": [
    "# correlations heatmap\n",
    "fs_analyze.plot_collinear()"
   ]
  },
  {
   "cell_type": "markdown",
   "metadata": {},
   "source": [
    "We can see high correlation between the pairs (9,11), (1,14), (1,13), (14,13). Moreover the FeatureSelector tool is recommending to remove features 11,13,14"
   ]
  },
  {
   "cell_type": "markdown",
   "metadata": {},
   "source": [
    "We can use a **one hot encoding** for the categorial features and see the correlations including them:"
   ]
  },
  {
   "cell_type": "code",
   "execution_count": 89,
   "metadata": {},
   "outputs": [
    {
     "name": "stdout",
     "output_type": "stream",
     "text": [
      "5 features with a correlation magnitude greater than 0.80.\n",
      "\n"
     ]
    },
    {
     "data": {
      "text/html": [
       "<div>\n",
       "<style scoped>\n",
       "    .dataframe tbody tr th:only-of-type {\n",
       "        vertical-align: middle;\n",
       "    }\n",
       "\n",
       "    .dataframe tbody tr th {\n",
       "        vertical-align: top;\n",
       "    }\n",
       "\n",
       "    .dataframe thead th {\n",
       "        text-align: right;\n",
       "    }\n",
       "</style>\n",
       "<table border=\"1\" class=\"dataframe\">\n",
       "  <thead>\n",
       "    <tr style=\"text-align: right;\">\n",
       "      <th></th>\n",
       "      <th>drop_feature</th>\n",
       "      <th>corr_feature</th>\n",
       "      <th>corr_value</th>\n",
       "    </tr>\n",
       "  </thead>\n",
       "  <tbody>\n",
       "    <tr>\n",
       "      <th>0</th>\n",
       "      <td>11</td>\n",
       "      <td>9</td>\n",
       "      <td>0.882835</td>\n",
       "    </tr>\n",
       "    <tr>\n",
       "      <th>1</th>\n",
       "      <td>13</td>\n",
       "      <td>1</td>\n",
       "      <td>0.874289</td>\n",
       "    </tr>\n",
       "    <tr>\n",
       "      <th>2</th>\n",
       "      <td>14</td>\n",
       "      <td>1</td>\n",
       "      <td>0.921297</td>\n",
       "    </tr>\n",
       "    <tr>\n",
       "      <th>3</th>\n",
       "      <td>14</td>\n",
       "      <td>13</td>\n",
       "      <td>0.921564</td>\n",
       "    </tr>\n",
       "    <tr>\n",
       "      <th>4</th>\n",
       "      <td>2_E</td>\n",
       "      <td>4</td>\n",
       "      <td>0.984131</td>\n",
       "    </tr>\n",
       "    <tr>\n",
       "      <th>5</th>\n",
       "      <td>5_e</td>\n",
       "      <td>4</td>\n",
       "      <td>0.902725</td>\n",
       "    </tr>\n",
       "    <tr>\n",
       "      <th>6</th>\n",
       "      <td>5_e</td>\n",
       "      <td>2_E</td>\n",
       "      <td>0.889468</td>\n",
       "    </tr>\n",
       "  </tbody>\n",
       "</table>\n",
       "</div>"
      ],
      "text/plain": [
       "  drop_feature corr_feature  corr_value\n",
       "0           11            9    0.882835\n",
       "1           13            1    0.874289\n",
       "2           14            1    0.921297\n",
       "3           14           13    0.921564\n",
       "4          2_E            4    0.984131\n",
       "5          5_e            4    0.902725\n",
       "6          5_e          2_E    0.889468"
      ]
     },
     "execution_count": 89,
     "metadata": {},
     "output_type": "execute_result"
    }
   ],
   "source": [
    "fs_analyze.identify_collinear(correlation_threshold=0.8, one_hot=True)\n",
    "fs_analyze.record_collinear"
   ]
  },
  {
   "cell_type": "markdown",
   "metadata": {},
   "source": [
    "We can see there's a high correlation between (4,2_E), (4, 5_e) and (2_E, 5_e). The FeatureSelector tool is recommending to remove features 2_E, 5_e"
   ]
  },
  {
   "cell_type": "markdown",
   "metadata": {},
   "source": [
    "Let's see the correlation matrix between all the numerical and boolean features:"
   ]
  },
  {
   "cell_type": "code",
   "execution_count": 90,
   "metadata": {},
   "outputs": [
    {
     "name": "stdout",
     "output_type": "stream",
     "text": [
      "3 features with a correlation magnitude greater than 0.80.\n",
      "\n"
     ]
    },
    {
     "data": {
      "image/png": "[encoded data removed]",
      "text/plain": [
       "<Figure size 576x432 with 2 Axes>"
      ]
     },
     "metadata": {
      "needs_background": "light"
     },
     "output_type": "display_data"
    }
   ],
   "source": [
    "fs_analyze.identify_collinear(correlation_threshold=0.8)\n",
    "fs_analyze.plot_collinear(plot_all=True)"
   ]
  },
  {
   "cell_type": "markdown",
   "metadata": {},
   "source": [
    "This heatmap is the best way to get a quick overview of our the relationships between the features"
   ]
  },
  {
   "cell_type": "markdown",
   "metadata": {},
   "source": [
    "### We shall now investigate correlations with the label:"
   ]
  },
  {
   "cell_type": "markdown",
   "metadata": {},
   "source": [
    "The 5 features with the highest correlation coeff with the label are:"
   ]
  },
  {
   "cell_type": "code",
   "execution_count": 91,
   "metadata": {},
   "outputs": [
    {
     "data": {
      "text/plain": [
       "Index(['label', '4', '13', '14', '1', '9'], dtype='object')"
      ]
     },
     "execution_count": 91,
     "metadata": {},
     "output_type": "execute_result"
    }
   ],
   "source": [
    "k = 6 #number of variables for heatmap\n",
    "corrmat = df_train.corr()\n",
    "cols = corrmat.nlargest(k, 'label')['label'].index\n",
    "cols"
   ]
  },
  {
   "cell_type": "code",
   "execution_count": 92,
   "metadata": {},
   "outputs": [
    {
     "data": {
      "image/png": "[encoded data removed]",
      "text/plain": [
       "<Figure size 864x864 with 42 Axes>"
      ]
     },
     "metadata": {},
     "output_type": "display_data"
    }
   ],
   "source": [
    "sns.set()\n",
    "sns.pairplot(df_train[cols].dropna(), size=2.0)\n",
    "plt.show()"
   ]
  },
  {
   "cell_type": "markdown",
   "metadata": {},
   "source": [
    "Although we already know some of the main figures, this mega scatter plot gives us a reasonable idea about variables relationships."
   ]
  },
  {
   "cell_type": "markdown",
   "metadata": {},
   "source": [
    "We can see again \"linear\" relationship between some of the features like 1 and 13"
   ]
  },
  {
   "cell_type": "markdown",
   "metadata": {},
   "source": [
    "## Zero important features"
   ]
  },
  {
   "cell_type": "markdown",
   "metadata": {},
   "source": [
    "the `FeatureSelector` tool lets us use the `identify_zero_importance` function which finds features that have zero importance according to a gradient boosting machine (GBM) learning model. This helps us find the most relevant features for a task. We can also use feature importances for feature selection by removing zero importance features.\n",
    "The `FeatureSelector` finds feature importances using the gradient boosting machine from the LightGBM library - https://lightgbm.readthedocs.io/en/latest/. The feature importances are averaged over 10 training runs of the GBM in order to reduce variance. Also, the model is trained using early stopping with a validation set to prevent overfitting to the training data."
   ]
  },
  {
   "cell_type": "code",
   "execution_count": 93,
   "metadata": {},
   "outputs": [
    {
     "name": "stdout",
     "output_type": "stream",
     "text": [
      "Training Gradient Boosting Model\n",
      "\n",
      "Training until validation scores don't improve for 100 rounds.\n",
      "Early stopping, best iteration is:\n",
      "[172]\tvalid_0's binary_logloss: 0.292271\tvalid_0's auc: 0.920304\n",
      "Training until validation scores don't improve for 100 rounds.\n",
      "Early stopping, best iteration is:\n",
      "[132]\tvalid_0's binary_logloss: 0.287844\tvalid_0's auc: 0.920231\n",
      "Training until validation scores don't improve for 100 rounds.\n",
      "Early stopping, best iteration is:\n",
      "[154]\tvalid_0's binary_logloss: 0.292841\tvalid_0's auc: 0.922217\n",
      "Training until validation scores don't improve for 100 rounds.\n",
      "Early stopping, best iteration is:\n",
      "[246]\tvalid_0's binary_logloss: 0.298367\tvalid_0's auc: 0.917486\n",
      "Training until validation scores don't improve for 100 rounds.\n",
      "Early stopping, best iteration is:\n",
      "[137]\tvalid_0's binary_logloss: 0.280007\tvalid_0's auc: 0.926937\n",
      "Training until validation scores don't improve for 100 rounds.\n",
      "Early stopping, best iteration is:\n",
      "[144]\tvalid_0's binary_logloss: 0.289205\tvalid_0's auc: 0.924306\n",
      "Training until validation scores don't improve for 100 rounds.\n",
      "Early stopping, best iteration is:\n",
      "[114]\tvalid_0's binary_logloss: 0.285268\tvalid_0's auc: 0.928191\n",
      "Training until validation scores don't improve for 100 rounds.\n",
      "Early stopping, best iteration is:\n",
      "[131]\tvalid_0's binary_logloss: 0.285563\tvalid_0's auc: 0.92646\n",
      "Training until validation scores don't improve for 100 rounds.\n",
      "Early stopping, best iteration is:\n",
      "[137]\tvalid_0's binary_logloss: 0.291721\tvalid_0's auc: 0.921493\n",
      "Training until validation scores don't improve for 100 rounds.\n",
      "Early stopping, best iteration is:\n",
      "[170]\tvalid_0's binary_logloss: 0.278699\tvalid_0's auc: 0.930368\n",
      "\n",
      "24 features with zero importance after one-hot encoding.\n",
      "\n"
     ]
    }
   ],
   "source": [
    "fs_analyze.identify_zero_importance(task = 'classification', eval_metric = 'auc', n_iterations = 10, early_stopping = True)\n",
    "zero_importance_features = fs_analyze.ops['zero_importance']"
   ]
  },
  {
   "cell_type": "markdown",
   "metadata": {},
   "source": [
    "This gives us two plots:"
   ]
  },
  {
   "cell_type": "code",
   "execution_count": 94,
   "metadata": {},
   "outputs": [
    {
     "data": {
      "image/png": "[encoded data removed]",
      "text/plain": [
       "<Figure size 600x500 with 1 Axes>"
      ]
     },
     "metadata": {},
     "output_type": "display_data"
    },
    {
     "data": {
      "image/png": "[encoded data removed]",
      "text/plain": [
       "<Figure size 600x400 with 1 Axes>"
      ]
     },
     "metadata": {},
     "output_type": "display_data"
    },
    {
     "name": "stdout",
     "output_type": "stream",
     "text": [
      "52 features required for 0.99 of cumulative importance\n"
     ]
    }
   ],
   "source": [
    "fs_analyze.plot_feature_importances(threshold = 0.99, plot_n = 12)"
   ]
  },
  {
   "cell_type": "markdown",
   "metadata": {},
   "source": [
    "In the top one we have the `plot_n` most important features (plotted in terms of normalized importance where the total sums to 1). On the lower one we have the cumulative importance versus the number of features. The vertical line is drawn at threshold of the cumulative importance, in this case 99%."
   ]
  },
  {
   "cell_type": "markdown",
   "metadata": {},
   "source": [
    "## Low important features"
   ]
  },
  {
   "cell_type": "markdown",
   "metadata": {},
   "source": [
    "The next method builds on zero importance function, using the feature importances from the model for further selection. The function identify_low_importance finds the lowest importance features that do not contribute to a specified total importance."
   ]
  },
  {
   "cell_type": "code",
   "execution_count": 95,
   "metadata": {},
   "outputs": [
    {
     "name": "stdout",
     "output_type": "stream",
     "text": [
      "51 features required for cumulative importance of 0.99 after one hot encoding.\n",
      "46 features do not contribute to cumulative importance of 0.99.\n",
      "\n"
     ]
    }
   ],
   "source": [
    "fs_analyze.identify_low_importance(cumulative_importance = 0.99)"
   ]
  },
  {
   "cell_type": "markdown",
   "metadata": {},
   "source": [
    "Based on the plot of cumulative importance and this information, the gradient boosting machine considers many of the features to be irrelevant for learning."
   ]
  },
  {
   "cell_type": "markdown",
   "metadata": {},
   "source": [
    "The low_importance method borrows from one of the methods of using **Principal Components Analysis (PCA)** where it is common to keep only the PC needed to retain a certain percentage of the variance (such as 95%). The percentage of total importance accounted for is based on the same idea."
   ]
  },
  {
   "cell_type": "markdown",
   "metadata": {},
   "source": [
    "## 2. Data Preproecing"
   ]
  },
  {
   "cell_type": "markdown",
   "metadata": {},
   "source": [
    "In order to make the code more modular for this section and for the next one, we chose to implement it in a .py file called DataPreprocessing.py. In this module we implemented a class `PreprocessingPipeline` in charge of loading and processing the data. the actions that will be performed and their order:\n",
    "1. `handle_missing_data()` - mean value for numerical and most commot value for categorical features\n",
    "2. `handle_unknown_features()` - np.Nan for samples 'unknown' or '?'\n",
    "3. `remove_outliers_from_train()` - remove outliers based on Z-score of each value in the column, relative to the column mean and standard deviation. This is done prior to label encoding. Thats because when we tried otherwise we noticed that more than 2/3 of the data was thrown away.\n",
    "4. `encode_categorical()` - one hot encoding\n",
    "5. `feature_scaling()` - standatization"
   ]
  },
  {
   "cell_type": "markdown",
   "metadata": {},
   "source": [
    "After completing the above stages we will use the `FeatureSelector` tool to identify which features to remove. \n",
    "The methods we will use are:\n",
    "* `identify_collinear()` - based on correlation coefficients between features \n",
    "* `identify_zero_importance()` - based on a gradient boosting machine (GBM) learning model\n",
    "* `identify_low_importance()` - based on principal Components Analysis (PCA)"
   ]
  },
  {
   "cell_type": "markdown",
   "metadata": {},
   "source": [
    "Except from outliers removal, we will perform the same operation on the test set"
   ]
  },
  {
   "cell_type": "code",
   "execution_count": 96,
   "metadata": {},
   "outputs": [],
   "source": [
    "from DataPreprocessing import *\n",
    "data_pipeline = DataPreprocessing(train='train.csv', test='test_without_target.csv')\n",
    "data_pipeline.handle_missing_data()\n",
    "data_pipeline.handle_missing_data(test=True)\n",
    "data_pipeline.handle_unknown_features()\n",
    "data_pipeline.handle_unknown_features(test=True)\n",
    "data_pipeline.remove_outliers_from_train()\n",
    "data_pipeline.encode_categorical()\n",
    "data_pipeline.encode_categorical(test=True)\n",
    "data_pipeline.feature_scaling()\n",
    "data_pipeline.feature_scaling(test=True)"
   ]
  },
  {
   "cell_type": "code",
   "execution_count": 97,
   "metadata": {},
   "outputs": [
    {
     "data": {
      "text/html": [
       "<div>\n",
       "<style scoped>\n",
       "    .dataframe tbody tr th:only-of-type {\n",
       "        vertical-align: middle;\n",
       "    }\n",
       "\n",
       "    .dataframe tbody tr th {\n",
       "        vertical-align: top;\n",
       "    }\n",
       "\n",
       "    .dataframe thead th {\n",
       "        text-align: right;\n",
       "    }\n",
       "</style>\n",
       "<table border=\"1\" class=\"dataframe\">\n",
       "  <thead>\n",
       "    <tr style=\"text-align: right;\">\n",
       "      <th></th>\n",
       "      <th>0_A</th>\n",
       "      <th>0_B</th>\n",
       "      <th>0_C</th>\n",
       "      <th>0_D</th>\n",
       "      <th>0_E</th>\n",
       "      <th>0_F</th>\n",
       "      <th>0_G</th>\n",
       "      <th>2_A</th>\n",
       "      <th>2_B</th>\n",
       "      <th>2_C</th>\n",
       "      <th>...</th>\n",
       "      <th>12</th>\n",
       "      <th>13</th>\n",
       "      <th>14</th>\n",
       "      <th>15</th>\n",
       "      <th>16</th>\n",
       "      <th>17</th>\n",
       "      <th>18</th>\n",
       "      <th>19</th>\n",
       "      <th>20</th>\n",
       "      <th>label</th>\n",
       "    </tr>\n",
       "  </thead>\n",
       "  <tbody>\n",
       "    <tr>\n",
       "      <th>1</th>\n",
       "      <td>0.567243</td>\n",
       "      <td>-0.208139</td>\n",
       "      <td>-0.175806</td>\n",
       "      <td>-0.284273</td>\n",
       "      <td>-0.180749</td>\n",
       "      <td>-0.263808</td>\n",
       "      <td>-0.021449</td>\n",
       "      <td>-0.173429</td>\n",
       "      <td>-0.404814</td>\n",
       "      <td>-0.181966</td>\n",
       "      <td>...</td>\n",
       "      <td>-0.568822</td>\n",
       "      <td>1.212782</td>\n",
       "      <td>1.064356</td>\n",
       "      <td>0.440166</td>\n",
       "      <td>0.083552</td>\n",
       "      <td>-0.245869</td>\n",
       "      <td>-0.036769</td>\n",
       "      <td>-0.007031</td>\n",
       "      <td>-0.674822</td>\n",
       "      <td>0</td>\n",
       "    </tr>\n",
       "    <tr>\n",
       "      <th>2</th>\n",
       "      <td>-1.762912</td>\n",
       "      <td>-0.208139</td>\n",
       "      <td>-0.175806</td>\n",
       "      <td>3.517746</td>\n",
       "      <td>-0.180749</td>\n",
       "      <td>-0.263808</td>\n",
       "      <td>-0.021449</td>\n",
       "      <td>-0.173429</td>\n",
       "      <td>2.470267</td>\n",
       "      <td>-0.181966</td>\n",
       "      <td>...</td>\n",
       "      <td>-0.035597</td>\n",
       "      <td>-0.060071</td>\n",
       "      <td>0.060902</td>\n",
       "      <td>0.543716</td>\n",
       "      <td>2.427625</td>\n",
       "      <td>-0.245869</td>\n",
       "      <td>-0.036769</td>\n",
       "      <td>0.900934</td>\n",
       "      <td>1.329278</td>\n",
       "      <td>0</td>\n",
       "    </tr>\n",
       "    <tr>\n",
       "      <th>3</th>\n",
       "      <td>-1.762912</td>\n",
       "      <td>-0.208139</td>\n",
       "      <td>5.688084</td>\n",
       "      <td>-0.284273</td>\n",
       "      <td>-0.180749</td>\n",
       "      <td>-0.263808</td>\n",
       "      <td>-0.021449</td>\n",
       "      <td>-0.173429</td>\n",
       "      <td>2.470267</td>\n",
       "      <td>-0.181966</td>\n",
       "      <td>...</td>\n",
       "      <td>0.709714</td>\n",
       "      <td>1.212782</td>\n",
       "      <td>1.060482</td>\n",
       "      <td>0.349572</td>\n",
       "      <td>0.154802</td>\n",
       "      <td>-0.245869</td>\n",
       "      <td>-0.036769</td>\n",
       "      <td>1.354917</td>\n",
       "      <td>0.661245</td>\n",
       "      <td>1</td>\n",
       "    </tr>\n",
       "    <tr>\n",
       "      <th>4</th>\n",
       "      <td>0.567243</td>\n",
       "      <td>-0.208139</td>\n",
       "      <td>-0.175806</td>\n",
       "      <td>-0.284273</td>\n",
       "      <td>-0.180749</td>\n",
       "      <td>-0.263808</td>\n",
       "      <td>-0.021449</td>\n",
       "      <td>-0.173429</td>\n",
       "      <td>-0.404814</td>\n",
       "      <td>-0.181966</td>\n",
       "      <td>...</td>\n",
       "      <td>-0.414479</td>\n",
       "      <td>-0.060071</td>\n",
       "      <td>-0.007680</td>\n",
       "      <td>-0.470829</td>\n",
       "      <td>-0.443828</td>\n",
       "      <td>-0.245869</td>\n",
       "      <td>-0.036769</td>\n",
       "      <td>-0.007031</td>\n",
       "      <td>-0.006789</td>\n",
       "      <td>0</td>\n",
       "    </tr>\n",
       "    <tr>\n",
       "      <th>5</th>\n",
       "      <td>-1.762912</td>\n",
       "      <td>-0.208139</td>\n",
       "      <td>5.688084</td>\n",
       "      <td>-0.284273</td>\n",
       "      <td>-0.180749</td>\n",
       "      <td>-0.263808</td>\n",
       "      <td>-0.021449</td>\n",
       "      <td>-0.173429</td>\n",
       "      <td>-0.404814</td>\n",
       "      <td>-0.181966</td>\n",
       "      <td>...</td>\n",
       "      <td>-0.311289</td>\n",
       "      <td>-0.060071</td>\n",
       "      <td>0.023133</td>\n",
       "      <td>-1.789859</td>\n",
       "      <td>1.954003</td>\n",
       "      <td>-0.245869</td>\n",
       "      <td>-0.036769</td>\n",
       "      <td>-0.007031</td>\n",
       "      <td>0.661245</td>\n",
       "      <td>1</td>\n",
       "    </tr>\n",
       "  </tbody>\n",
       "</table>\n",
       "<p>5 rows × 95 columns</p>\n",
       "</div>"
      ],
      "text/plain": [
       "        0_A       0_B       0_C       0_D       0_E       0_F       0_G  \\\n",
       "1  0.567243 -0.208139 -0.175806 -0.284273 -0.180749 -0.263808 -0.021449   \n",
       "2 -1.762912 -0.208139 -0.175806  3.517746 -0.180749 -0.263808 -0.021449   \n",
       "3 -1.762912 -0.208139  5.688084 -0.284273 -0.180749 -0.263808 -0.021449   \n",
       "4  0.567243 -0.208139 -0.175806 -0.284273 -0.180749 -0.263808 -0.021449   \n",
       "5 -1.762912 -0.208139  5.688084 -0.284273 -0.180749 -0.263808 -0.021449   \n",
       "\n",
       "        2_A       2_B       2_C  ...          12        13        14  \\\n",
       "1 -0.173429 -0.404814 -0.181966  ...   -0.568822  1.212782  1.064356   \n",
       "2 -0.173429  2.470267 -0.181966  ...   -0.035597 -0.060071  0.060902   \n",
       "3 -0.173429  2.470267 -0.181966  ...    0.709714  1.212782  1.060482   \n",
       "4 -0.173429 -0.404814 -0.181966  ...   -0.414479 -0.060071 -0.007680   \n",
       "5 -0.173429 -0.404814 -0.181966  ...   -0.311289 -0.060071  0.023133   \n",
       "\n",
       "         15        16        17        18        19        20  label  \n",
       "1  0.440166  0.083552 -0.245869 -0.036769 -0.007031 -0.674822      0  \n",
       "2  0.543716  2.427625 -0.245869 -0.036769  0.900934  1.329278      0  \n",
       "3  0.349572  0.154802 -0.245869 -0.036769  1.354917  0.661245      1  \n",
       "4 -0.470829 -0.443828 -0.245869 -0.036769 -0.007031 -0.006789      0  \n",
       "5 -1.789859  1.954003 -0.245869 -0.036769 -0.007031  0.661245      1  \n",
       "\n",
       "[5 rows x 95 columns]"
      ]
     },
     "execution_count": 97,
     "metadata": {},
     "output_type": "execute_result"
    }
   ],
   "source": [
    "data_pipeline._df_train.head()"
   ]
  },
  {
   "cell_type": "code",
   "execution_count": 98,
   "metadata": {},
   "outputs": [
    {
     "data": {
      "text/html": [
       "<div>\n",
       "<style scoped>\n",
       "    .dataframe tbody tr th:only-of-type {\n",
       "        vertical-align: middle;\n",
       "    }\n",
       "\n",
       "    .dataframe tbody tr th {\n",
       "        vertical-align: top;\n",
       "    }\n",
       "\n",
       "    .dataframe thead th {\n",
       "        text-align: right;\n",
       "    }\n",
       "</style>\n",
       "<table border=\"1\" class=\"dataframe\">\n",
       "  <thead>\n",
       "    <tr style=\"text-align: right;\">\n",
       "      <th></th>\n",
       "      <th>0_A</th>\n",
       "      <th>0_B</th>\n",
       "      <th>0_C</th>\n",
       "      <th>0_D</th>\n",
       "      <th>0_E</th>\n",
       "      <th>0_F</th>\n",
       "      <th>0_G</th>\n",
       "      <th>2_A</th>\n",
       "      <th>2_B</th>\n",
       "      <th>2_C</th>\n",
       "      <th>...</th>\n",
       "      <th>11</th>\n",
       "      <th>12</th>\n",
       "      <th>13</th>\n",
       "      <th>14</th>\n",
       "      <th>15</th>\n",
       "      <th>16</th>\n",
       "      <th>17</th>\n",
       "      <th>18</th>\n",
       "      <th>19</th>\n",
       "      <th>20</th>\n",
       "    </tr>\n",
       "  </thead>\n",
       "  <tbody>\n",
       "    <tr>\n",
       "      <th>0</th>\n",
       "      <td>0.567243</td>\n",
       "      <td>-0.208139</td>\n",
       "      <td>-0.175806</td>\n",
       "      <td>-0.284273</td>\n",
       "      <td>-0.180749</td>\n",
       "      <td>-0.263808</td>\n",
       "      <td>-0.021449</td>\n",
       "      <td>-0.173429</td>\n",
       "      <td>-0.404814</td>\n",
       "      <td>-0.181966</td>\n",
       "      <td>...</td>\n",
       "      <td>-0.364865</td>\n",
       "      <td>1.018731</td>\n",
       "      <td>-0.060071</td>\n",
       "      <td>0.213406</td>\n",
       "      <td>-0.482951</td>\n",
       "      <td>1.847053</td>\n",
       "      <td>-0.245869</td>\n",
       "      <td>-0.036769</td>\n",
       "      <td>-0.007031</td>\n",
       "      <td>-0.006789</td>\n",
       "    </tr>\n",
       "    <tr>\n",
       "      <th>1</th>\n",
       "      <td>0.567243</td>\n",
       "      <td>-0.208139</td>\n",
       "      <td>-0.175806</td>\n",
       "      <td>-0.284273</td>\n",
       "      <td>-0.180749</td>\n",
       "      <td>-0.263808</td>\n",
       "      <td>-0.021449</td>\n",
       "      <td>-0.173429</td>\n",
       "      <td>-0.404814</td>\n",
       "      <td>-0.181966</td>\n",
       "      <td>...</td>\n",
       "      <td>-1.452968</td>\n",
       "      <td>2.712785</td>\n",
       "      <td>-0.060071</td>\n",
       "      <td>0.122505</td>\n",
       "      <td>-1.556644</td>\n",
       "      <td>-0.427731</td>\n",
       "      <td>-0.245869</td>\n",
       "      <td>-0.036769</td>\n",
       "      <td>-2.276944</td>\n",
       "      <td>-1.342855</td>\n",
       "    </tr>\n",
       "    <tr>\n",
       "      <th>2</th>\n",
       "      <td>0.567243</td>\n",
       "      <td>-0.208139</td>\n",
       "      <td>-0.175806</td>\n",
       "      <td>-0.284273</td>\n",
       "      <td>-0.180749</td>\n",
       "      <td>-0.263808</td>\n",
       "      <td>-0.021449</td>\n",
       "      <td>-0.173429</td>\n",
       "      <td>-0.404814</td>\n",
       "      <td>-0.181966</td>\n",
       "      <td>...</td>\n",
       "      <td>-0.909658</td>\n",
       "      <td>0.211048</td>\n",
       "      <td>-0.060071</td>\n",
       "      <td>0.097830</td>\n",
       "      <td>-0.798226</td>\n",
       "      <td>-0.894773</td>\n",
       "      <td>-0.245869</td>\n",
       "      <td>-0.036769</td>\n",
       "      <td>-0.007031</td>\n",
       "      <td>0.661245</td>\n",
       "    </tr>\n",
       "    <tr>\n",
       "      <th>3</th>\n",
       "      <td>0.567243</td>\n",
       "      <td>-0.208139</td>\n",
       "      <td>-0.175806</td>\n",
       "      <td>-0.284273</td>\n",
       "      <td>-0.180749</td>\n",
       "      <td>-0.263808</td>\n",
       "      <td>-0.021449</td>\n",
       "      <td>-0.173429</td>\n",
       "      <td>-0.404814</td>\n",
       "      <td>-0.181966</td>\n",
       "      <td>...</td>\n",
       "      <td>-0.096644</td>\n",
       "      <td>-0.818650</td>\n",
       "      <td>-1.332925</td>\n",
       "      <td>-1.396072</td>\n",
       "      <td>-1.527878</td>\n",
       "      <td>-0.098019</td>\n",
       "      <td>-0.245869</td>\n",
       "      <td>-0.036769</td>\n",
       "      <td>0.446952</td>\n",
       "      <td>2.665344</td>\n",
       "    </tr>\n",
       "    <tr>\n",
       "      <th>4</th>\n",
       "      <td>0.567243</td>\n",
       "      <td>-0.208139</td>\n",
       "      <td>-0.175806</td>\n",
       "      <td>-0.284273</td>\n",
       "      <td>-0.180749</td>\n",
       "      <td>-0.263808</td>\n",
       "      <td>-0.021449</td>\n",
       "      <td>-0.173429</td>\n",
       "      <td>-0.404814</td>\n",
       "      <td>-0.181966</td>\n",
       "      <td>...</td>\n",
       "      <td>-1.701328</td>\n",
       "      <td>-1.391694</td>\n",
       "      <td>-0.060071</td>\n",
       "      <td>0.068432</td>\n",
       "      <td>-0.520838</td>\n",
       "      <td>-0.324101</td>\n",
       "      <td>-0.245869</td>\n",
       "      <td>-0.036769</td>\n",
       "      <td>-0.914996</td>\n",
       "      <td>-0.006789</td>\n",
       "    </tr>\n",
       "  </tbody>\n",
       "</table>\n",
       "<p>5 rows × 94 columns</p>\n",
       "</div>"
      ],
      "text/plain": [
       "        0_A       0_B       0_C       0_D       0_E       0_F       0_G  \\\n",
       "0  0.567243 -0.208139 -0.175806 -0.284273 -0.180749 -0.263808 -0.021449   \n",
       "1  0.567243 -0.208139 -0.175806 -0.284273 -0.180749 -0.263808 -0.021449   \n",
       "2  0.567243 -0.208139 -0.175806 -0.284273 -0.180749 -0.263808 -0.021449   \n",
       "3  0.567243 -0.208139 -0.175806 -0.284273 -0.180749 -0.263808 -0.021449   \n",
       "4  0.567243 -0.208139 -0.175806 -0.284273 -0.180749 -0.263808 -0.021449   \n",
       "\n",
       "        2_A       2_B       2_C    ...           11        12        13  \\\n",
       "0 -0.173429 -0.404814 -0.181966    ...    -0.364865  1.018731 -0.060071   \n",
       "1 -0.173429 -0.404814 -0.181966    ...    -1.452968  2.712785 -0.060071   \n",
       "2 -0.173429 -0.404814 -0.181966    ...    -0.909658  0.211048 -0.060071   \n",
       "3 -0.173429 -0.404814 -0.181966    ...    -0.096644 -0.818650 -1.332925   \n",
       "4 -0.173429 -0.404814 -0.181966    ...    -1.701328 -1.391694 -0.060071   \n",
       "\n",
       "         14        15        16        17        18        19        20  \n",
       "0  0.213406 -0.482951  1.847053 -0.245869 -0.036769 -0.007031 -0.006789  \n",
       "1  0.122505 -1.556644 -0.427731 -0.245869 -0.036769 -2.276944 -1.342855  \n",
       "2  0.097830 -0.798226 -0.894773 -0.245869 -0.036769 -0.007031  0.661245  \n",
       "3 -1.396072 -1.527878 -0.098019 -0.245869 -0.036769  0.446952  2.665344  \n",
       "4  0.068432 -0.520838 -0.324101 -0.245869 -0.036769 -0.914996 -0.006789  \n",
       "\n",
       "[5 rows x 94 columns]"
      ]
     },
     "execution_count": 98,
     "metadata": {},
     "output_type": "execute_result"
    }
   ],
   "source": [
    "data_pipeline._df_test.head()"
   ]
  },
  {
   "cell_type": "code",
   "execution_count": 99,
   "metadata": {},
   "outputs": [],
   "source": [
    "fs = FeatureSelector(data = data_pipeline._df_train.drop(columns = ['label']), labels = data_pipeline._df_train['label'])"
   ]
  },
  {
   "cell_type": "code",
   "execution_count": 100,
   "metadata": {},
   "outputs": [
    {
     "name": "stdout",
     "output_type": "stream",
     "text": [
      "5 features with a correlation magnitude greater than 0.80.\n",
      "\n",
      "Training Gradient Boosting Model\n",
      "\n",
      "Training until validation scores don't improve for 100 rounds.\n",
      "Early stopping, best iteration is:\n",
      "[132]\tvalid_0's binary_logloss: 0.290611\tvalid_0's auc: 0.919566\n",
      "Training until validation scores don't improve for 100 rounds.\n",
      "Early stopping, best iteration is:\n",
      "[265]\tvalid_0's binary_logloss: 0.287868\tvalid_0's auc: 0.916133\n",
      "Training until validation scores don't improve for 100 rounds.\n",
      "Early stopping, best iteration is:\n",
      "[180]\tvalid_0's binary_logloss: 0.303169\tvalid_0's auc: 0.909229\n",
      "Training until validation scores don't improve for 100 rounds.\n",
      "Early stopping, best iteration is:\n",
      "[192]\tvalid_0's binary_logloss: 0.287257\tvalid_0's auc: 0.919113\n",
      "Training until validation scores don't improve for 100 rounds.\n",
      "Early stopping, best iteration is:\n",
      "[143]\tvalid_0's binary_logloss: 0.289918\tvalid_0's auc: 0.909511\n",
      "Training until validation scores don't improve for 100 rounds.\n",
      "Early stopping, best iteration is:\n",
      "[213]\tvalid_0's binary_logloss: 0.298393\tvalid_0's auc: 0.909129\n",
      "Training until validation scores don't improve for 100 rounds.\n",
      "Early stopping, best iteration is:\n",
      "[117]\tvalid_0's binary_logloss: 0.307831\tvalid_0's auc: 0.904017\n",
      "Training until validation scores don't improve for 100 rounds.\n",
      "Early stopping, best iteration is:\n",
      "[134]\tvalid_0's binary_logloss: 0.296484\tvalid_0's auc: 0.913399\n",
      "Training until validation scores don't improve for 100 rounds.\n",
      "Early stopping, best iteration is:\n",
      "[193]\tvalid_0's binary_logloss: 0.310479\tvalid_0's auc: 0.904747\n",
      "Training until validation scores don't improve for 100 rounds.\n",
      "Early stopping, best iteration is:\n",
      "[205]\tvalid_0's binary_logloss: 0.307536\tvalid_0's auc: 0.911946\n",
      "\n",
      "24 features with zero importance after one-hot encoding.\n",
      "\n",
      "51 features required for cumulative importance of 0.99 after one hot encoding.\n",
      "43 features do not contribute to cumulative importance of 0.99.\n",
      "\n"
     ]
    }
   ],
   "source": [
    "fs.identify_collinear(correlation_threshold=0.8)\n",
    "fs.identify_zero_importance(task = 'classification', eval_metric = 'auc', n_iterations = 10, early_stopping = True)\n",
    "fs.identify_low_importance(cumulative_importance = 0.99)"
   ]
  },
  {
   "cell_type": "markdown",
   "metadata": {},
   "source": [
    "## Removing the redundant features "
   ]
  },
  {
   "cell_type": "markdown",
   "metadata": {},
   "source": [
    "**It is important to mention that the feature selection we did will be evaluated with cross validation to see if it has a beneficial effect.** We will check the performance of the learning models on the low dimension data set and on the full dimension data set and compare the results "
   ]
  },
  {
   "cell_type": "code",
   "execution_count": 161,
   "metadata": {},
   "outputs": [],
   "source": [
    "features_to_remove = list(set([x[i] for x in fs.ops.values() for i in range(len(x))]))\n",
    "low_dim_processed_train = data_pipeline._df_train.drop(features_to_remove, axis=1)\n",
    "low_dim_processed_test = data_pipeline._df_test.drop(features_to_remove, axis=1)\n",
    "low_dim_processed_train.to_csv('low_dim_processed_train')"
   ]
  },
  {
   "cell_type": "markdown",
   "metadata": {},
   "source": [
    "## 3. Running models"
   ]
  },
  {
   "cell_type": "markdown",
   "metadata": {},
   "source": [
    "To find the optimal hyper-parameters we will run a grid search for each model"
   ]
  },
  {
   "cell_type": "markdown",
   "metadata": {},
   "source": [
    "After running a grid search for each model and finding the optimal hyper-parameters we will create models with the best parameters and comment out the grid search code to save run time for next runs"
   ]
  },
  {
   "cell_type": "code",
   "execution_count": 162,
   "metadata": {},
   "outputs": [],
   "source": [
    "from LearningModels import *\n",
    "from sklearn.model_selection import GridSearchCV\n",
    "RU_low_dim = RunUtils(dataset=low_dim_processed_train)\n",
    "X_train, y_train, X_validation, y_validation = RU_low_dim.X_train, RU_low_dim.y_train, RU_low_dim.X_validation, RU_low_dim.y_validation"
   ]
  },
  {
   "cell_type": "markdown",
   "metadata": {},
   "source": [
    "**Naïve Bayes Classifier**"
   ]
  },
  {
   "cell_type": "markdown",
   "metadata": {},
   "source": [
    "There are no hyper-parameters to tune in this models"
   ]
  },
  {
   "cell_type": "code",
   "execution_count": 104,
   "metadata": {},
   "outputs": [],
   "source": [
    "from sklearn.naive_bayes import GaussianNB\n",
    "NB_clf = GaussianNB().fit(X_train, y_train)"
   ]
  },
  {
   "cell_type": "code",
   "execution_count": 105,
   "metadata": {},
   "outputs": [
    {
     "data": {
      "text/plain": [
       "0.6262068965517241"
      ]
     },
     "execution_count": 105,
     "metadata": {},
     "output_type": "execute_result"
    }
   ],
   "source": [
    "# Model Accuracy\n",
    "NB_clf.score(X_validation, y_validation)"
   ]
  },
  {
   "cell_type": "markdown",
   "metadata": {},
   "source": [
    "**Logistic Regression**"
   ]
  },
  {
   "cell_type": "code",
   "execution_count": 109,
   "metadata": {},
   "outputs": [],
   "source": [
    "from sklearn.linear_model import LogisticRegression"
   ]
  },
  {
   "cell_type": "code",
   "execution_count": 110,
   "metadata": {},
   "outputs": [],
   "source": [
    "# define the grid search parameters\n",
    "penalty = ['l1', 'l2']\n",
    "C = np.logspace(0, 4, 10)\n",
    "LR_hyperparams = dict(C=C, penalty=penalty)"
   ]
  },
  {
   "cell_type": "code",
   "execution_count": 113,
   "metadata": {},
   "outputs": [
    {
     "name": "stdout",
     "output_type": "stream",
     "text": [
      "Logistic Regression is best (recieved best AUC): 0.897924 using {'C': 1.0, 'penalty': 'l1'}\n",
      "0.897924 (0.003638) with: {'C': 1.0, 'penalty': 'l1'}\n",
      "0.897858 (0.003595) with: {'C': 1.0, 'penalty': 'l2'}\n",
      "0.897861 (0.003610) with: {'C': 2.7825594022071245, 'penalty': 'l1'}\n",
      "0.897817 (0.003580) with: {'C': 2.7825594022071245, 'penalty': 'l2'}\n",
      "0.897818 (0.003584) with: {'C': 7.742636826811269, 'penalty': 'l1'}\n",
      "0.897795 (0.003565) with: {'C': 7.742636826811269, 'penalty': 'l2'}\n",
      "0.897776 (0.003546) with: {'C': 21.544346900318832, 'penalty': 'l1'}\n",
      "0.897779 (0.003553) with: {'C': 21.544346900318832, 'penalty': 'l2'}\n",
      "0.897732 (0.003490) with: {'C': 59.94842503189409, 'penalty': 'l1'}\n",
      "0.897774 (0.003547) with: {'C': 59.94842503189409, 'penalty': 'l2'}\n",
      "0.897698 (0.003443) with: {'C': 166.81005372000593, 'penalty': 'l1'}\n",
      "0.897772 (0.003544) with: {'C': 166.81005372000593, 'penalty': 'l2'}\n",
      "0.897676 (0.003412) with: {'C': 464.15888336127773, 'penalty': 'l1'}\n",
      "0.897772 (0.003543) with: {'C': 464.15888336127773, 'penalty': 'l2'}\n",
      "0.897667 (0.003398) with: {'C': 1291.5496650148827, 'penalty': 'l1'}\n",
      "0.897771 (0.003543) with: {'C': 1291.5496650148827, 'penalty': 'l2'}\n",
      "0.897663 (0.003393) with: {'C': 3593.813663804626, 'penalty': 'l1'}\n",
      "0.897771 (0.003543) with: {'C': 3593.813663804626, 'penalty': 'l2'}\n",
      "0.897663 (0.003392) with: {'C': 10000.0, 'penalty': 'l1'}\n",
      "0.897771 (0.003543) with: {'C': 10000.0, 'penalty': 'l2'}\n"
     ]
    }
   ],
   "source": [
    "LR_GS = GridSearchCV(LogisticRegression(), LR_hyperparams, cv=3, scoring='roc_auc', n_jobs=-1)\n",
    "LR_GS.fit(X_train, y_train, )\n",
    "# summarize results\n",
    "print(\"Logistic Regression is best (recieved best AUC): %f using %s\" % (LR_GS.best_score_, LR_GS.best_params_))\n",
    "means = LR_GS.cv_results_['mean_test_score']\n",
    "stds = LR_GS.cv_results_['std_test_score']\n",
    "params = LR_GS.cv_results_['params']\n",
    "for mean, stdev, param in zip(means, stds, params):\n",
    "    print(\"%f (%f) with: %r\" % (mean, stdev, param))"
   ]
  },
  {
   "cell_type": "markdown",
   "metadata": {},
   "source": [
    "**Logistic Regression is best (recieved best AUC): 0.897599 using {'C': 1.0, 'penalty': 'l1'}**"
   ]
  },
  {
   "cell_type": "markdown",
   "metadata": {},
   "source": [
    "Our logistic regression model will be:"
   ]
  },
  {
   "cell_type": "code",
   "execution_count": 123,
   "metadata": {},
   "outputs": [
    {
     "data": {
      "text/plain": [
       "{'C': 1.0, 'penalty': 'l1'}"
      ]
     },
     "execution_count": 123,
     "metadata": {},
     "output_type": "execute_result"
    }
   ],
   "source": [
    "LR_GS.best_params_"
   ]
  },
  {
   "cell_type": "code",
   "execution_count": 124,
   "metadata": {},
   "outputs": [
    {
     "data": {
      "text/plain": [
       "LogisticRegression(C=1.0, class_weight=None, dual=False, fit_intercept=True,\n",
       "          intercept_scaling=1, max_iter=100, multi_class='warn',\n",
       "          n_jobs=None, penalty='l1', random_state=None, solver='warn',\n",
       "          tol=0.0001, verbose=0, warm_start=False)"
      ]
     },
     "execution_count": 124,
     "metadata": {},
     "output_type": "execute_result"
    }
   ],
   "source": [
    "LR_clf = LogisticRegression(C=1.0, penalty='l1')\n",
    "LR_clf.fit(X_train, y_train)"
   ]
  },
  {
   "cell_type": "code",
   "execution_count": 125,
   "metadata": {},
   "outputs": [
    {
     "data": {
      "text/plain": [
       "0.8533333333333334"
      ]
     },
     "execution_count": 125,
     "metadata": {},
     "output_type": "execute_result"
    }
   ],
   "source": [
    "# Model Accuracy\n",
    "LR_clf.score(X_validation, y_validation)"
   ]
  },
  {
   "cell_type": "markdown",
   "metadata": {},
   "source": [
    "**Support Vector Machine**"
   ]
  },
  {
   "cell_type": "code",
   "execution_count": 119,
   "metadata": {},
   "outputs": [],
   "source": [
    "from sklearn.svm import SVC"
   ]
  },
  {
   "cell_type": "code",
   "execution_count": 120,
   "metadata": {},
   "outputs": [],
   "source": [
    "# define the grid search parameters\n",
    "kernel = ['linear', 'rbf']\n",
    "C = [10**x for x in range(-1, 3)]\n",
    "gamma = [1,2,3]\n",
    "SVM_hyperparams = dict(kernel=kernel, C=C, gamma=gamma)"
   ]
  },
  {
   "cell_type": "code",
   "execution_count": 121,
   "metadata": {},
   "outputs": [
    {
     "name": "stdout",
     "output_type": "stream",
     "text": [
      "SVM is best (recieved best AUC): 0.893610 using {'C': 0.1, 'gamma': 1, 'kernel': 'linear'}\n",
      "0.893610 (0.007052) with: {'C': 0.1, 'gamma': 1, 'kernel': 'linear'}\n",
      "0.773695 (0.007984) with: {'C': 0.1, 'gamma': 1, 'kernel': 'rbf'}\n",
      "0.893610 (0.007052) with: {'C': 0.1, 'gamma': 2, 'kernel': 'linear'}\n",
      "0.743316 (0.010225) with: {'C': 0.1, 'gamma': 2, 'kernel': 'rbf'}\n",
      "0.893610 (0.007052) with: {'C': 0.1, 'gamma': 3, 'kernel': 'linear'}\n",
      "0.726153 (0.010194) with: {'C': 0.1, 'gamma': 3, 'kernel': 'rbf'}\n",
      "0.893578 (0.007038) with: {'C': 1, 'gamma': 1, 'kernel': 'linear'}\n",
      "0.772809 (0.008670) with: {'C': 1, 'gamma': 1, 'kernel': 'rbf'}\n",
      "0.893578 (0.007038) with: {'C': 1, 'gamma': 2, 'kernel': 'linear'}\n",
      "0.743449 (0.010354) with: {'C': 1, 'gamma': 2, 'kernel': 'rbf'}\n",
      "0.893578 (0.007038) with: {'C': 1, 'gamma': 3, 'kernel': 'linear'}\n",
      "0.726695 (0.010032) with: {'C': 1, 'gamma': 3, 'kernel': 'rbf'}\n",
      "0.893539 (0.007077) with: {'C': 10, 'gamma': 1, 'kernel': 'linear'}\n",
      "0.766898 (0.010146) with: {'C': 10, 'gamma': 1, 'kernel': 'rbf'}\n",
      "0.893539 (0.007077) with: {'C': 10, 'gamma': 2, 'kernel': 'linear'}\n",
      "0.742976 (0.011044) with: {'C': 10, 'gamma': 2, 'kernel': 'rbf'}\n",
      "0.893539 (0.007077) with: {'C': 10, 'gamma': 3, 'kernel': 'linear'}\n",
      "0.726374 (0.010379) with: {'C': 10, 'gamma': 3, 'kernel': 'rbf'}\n",
      "0.893562 (0.007039) with: {'C': 100, 'gamma': 1, 'kernel': 'linear'}\n",
      "0.766937 (0.010129) with: {'C': 100, 'gamma': 1, 'kernel': 'rbf'}\n",
      "0.893562 (0.007039) with: {'C': 100, 'gamma': 2, 'kernel': 'linear'}\n",
      "0.742976 (0.011044) with: {'C': 100, 'gamma': 2, 'kernel': 'rbf'}\n",
      "0.893562 (0.007039) with: {'C': 100, 'gamma': 3, 'kernel': 'linear'}\n",
      "0.726374 (0.010379) with: {'C': 100, 'gamma': 3, 'kernel': 'rbf'}\n"
     ]
    }
   ],
   "source": [
    "SVM_GS = GridSearchCV(SVC(), SVM_hyperparams, cv=5, scoring='roc_auc', n_jobs=-1)\n",
    "SVM_GS.fit(X_train, y_train)\n",
    "# summarize results\n",
    "print(\"SVM is best (recieved best AUC): %f using %s\" % (SVM_GS.best_score_, SVM_GS.best_params_))\n",
    "means = SVM_GS.cv_results_['mean_test_score']\n",
    "stds = SVM_GS.cv_results_['std_test_score']\n",
    "params = SVM_GS.cv_results_['params']\n",
    "for mean, stdev, param in zip(means, stds, params):\n",
    "    print(\"%f (%f) with: %r\" % (mean, stdev, param))"
   ]
  },
  {
   "cell_type": "code",
   "execution_count": 127,
   "metadata": {},
   "outputs": [
    {
     "data": {
      "text/plain": [
       "{'C': 0.1, 'gamma': 1, 'kernel': 'linear'}"
      ]
     },
     "execution_count": 127,
     "metadata": {},
     "output_type": "execute_result"
    }
   ],
   "source": [
    "SVM_GS.best_params_"
   ]
  },
  {
   "cell_type": "code",
   "execution_count": 129,
   "metadata": {},
   "outputs": [
    {
     "data": {
      "text/plain": [
       "SVC(C=0.1, cache_size=200, class_weight=None, coef0=0.0,\n",
       "  decision_function_shape='ovr', degree=3, gamma=1.0, kernel='linear',\n",
       "  max_iter=-1, probability=False, random_state=None, shrinking=True,\n",
       "  tol=0.001, verbose=False)"
      ]
     },
     "execution_count": 129,
     "metadata": {},
     "output_type": "execute_result"
    }
   ],
   "source": [
    "SVM_clf = SVC(C=0.1, gamma=1.0, kernel='linear')\n",
    "SVM_clf.fit(X_train, y_train)"
   ]
  },
  {
   "cell_type": "code",
   "execution_count": 140,
   "metadata": {},
   "outputs": [
    {
     "data": {
      "text/plain": [
       "0.8537931034482759"
      ]
     },
     "execution_count": 140,
     "metadata": {},
     "output_type": "execute_result"
    }
   ],
   "source": [
    "# Model Accuracy\n",
    "SVM_clf.score(X_validation, y_validation)"
   ]
  },
  {
   "cell_type": "markdown",
   "metadata": {},
   "source": [
    "**Artificial neural network** "
   ]
  },
  {
   "cell_type": "markdown",
   "metadata": {},
   "source": [
    "We'll start with a basic model and grid search for the optimal hyper-parameters. If we try to search for all parameters the amount of combinations will be huge and it will take forever to grid seach. Hence we will chose in advance:\n",
    "* `Adam` optimizer https://arxiv.org/abs/1412.6980. Adam is a method for stochastic optimization which usually yields very good results when optimizing a deep neural network.\n",
    "* `Glorot Uniform` http://jmlr.org/proceedings/papers/v9/glorot10a/glorot10a.pdf weights initializer, also called Xavier uniform initializer. It draws samples from a uniform distribution within [-limit, limit] where limit is sqrt(6 / (fan_in + fan_out)) where fan_in is the number of input units in the weight tensor and fan_out is the number of output units in the weight tensor. This helps to prevent the variance of the weights initialized from becoming very small.\n",
    "* `Relu` https://en.wikipedia.org/wiki/Rectifier_(neural_networks) activation function because it usually works best."
   ]
  },
  {
   "cell_type": "code",
   "execution_count": 169,
   "metadata": {},
   "outputs": [],
   "source": [
    "from keras.wrappers.scikit_learn import KerasClassifier"
   ]
  },
  {
   "cell_type": "code",
   "execution_count": 170,
   "metadata": {},
   "outputs": [],
   "source": [
    "def ANN(layers=(50, 50, 50), input_dim=X_train.shape[1], weights_init='glorot_uniform', activation='relu', dropout_rate=0.25, optimizer='adam'):   \n",
    "    # Init the ANN\n",
    "    classifier = Sequential()\n",
    "    # Adding the input layer and the first hidden layer\n",
    "    classifier.add(Dense(input_dim=input_dim, units=layers[0], kernel_initializer=weights_init, activation=activation))\n",
    "    # Adding the hidden layers\n",
    "    for neurons in layers[1:]:\n",
    "        classifier.add(Dropout(dropout_rate))\n",
    "        classifier.add(Dense(units=neurons, kernel_initializer=weights_init, activation=activation))\n",
    "    # Adding the output layer\n",
    "    classifier.add(Dense(units=1, kernel_initializer=weights_init, activation='sigmoid'))\n",
    "    # Compiling the ANN\n",
    "    classifier.compile(optimizer=optimizer, loss='binary_crossentropy', metrics=['accuracy'])\n",
    "    \n",
    "    return classifier"
   ]
  },
  {
   "cell_type": "code",
   "execution_count": 192,
   "metadata": {},
   "outputs": [],
   "source": [
    "# define the grid search parameters\n",
    "batch_size = [10, 20, 50]\n",
    "epochs = [50, 80, 100]\n",
    "dropout_rate = [0.2, 0.25, 0.3]\n",
    "layers = [(100, 100, 100, 100), (50, 50, 50, 50, 50), (20, 20, 20, 20, 20, 20, 20)] \n",
    "ANN_hyperparams = dict(batch_size=batch_size, epochs=epochs, dropout_rate=dropout_rate, layers=layers)"
   ]
  },
  {
   "cell_type": "code",
   "execution_count": null,
   "metadata": {},
   "outputs": [],
   "source": [
    "ANN_GS = GridSearchCV(estimator=KerasClassifier(build_fn=ANN, verbose=2), param_grid=ANN_hyperparams, cv=5, scoring='roc_auc', n_jobs=-1)\n",
    "ann_results = ANN_GS.fit(X_train, y_train)\n",
    "# summarize results\n",
    "print(\"ANN is best (recieved best AUC): %f using %s\" % (ann_results.best_score_, ann_results.best_params_))"
   ]
  },
  {
   "cell_type": "markdown",
   "metadata": {},
   "source": [
    "**ANN is best (recieved best AUC): 0.902591 using {'batch_size': 50, 'dropout_rate': 0.3, 'epochs': 50, 'layers': (50, 50, 50, 50, 50)}**"
   ]
  },
  {
   "cell_type": "code",
   "execution_count": 173,
   "metadata": {},
   "outputs": [
    {
     "data": {
      "text/plain": [
       "{'batch_size': 50,\n",
       " 'dropout_rate': 0.3,\n",
       " 'epochs': 50,\n",
       " 'layers': (50, 50, 50, 50, 50)}"
      ]
     },
     "execution_count": 173,
     "metadata": {},
     "output_type": "execute_result"
    }
   ],
   "source": [
    "ann_results.best_params_"
   ]
  },
  {
   "cell_type": "code",
   "execution_count": 207,
   "metadata": {},
   "outputs": [
    {
     "data": {
      "text/plain": [
       "0.905873559652323"
      ]
     },
     "execution_count": 207,
     "metadata": {},
     "output_type": "execute_result"
    }
   ],
   "source": [
    "ann_results.score(X_validation, y_validation)"
   ]
  },
  {
   "cell_type": "markdown",
   "metadata": {},
   "source": [
    "Let's try to search for a better optimizer and layers"
   ]
  },
  {
   "cell_type": "code",
   "execution_count": 215,
   "metadata": {},
   "outputs": [],
   "source": [
    "def ANN2(layers=(50, 50, 50, 50, 50), input_dim=X_train.shape[1], weights_init='glorot_uniform', activation='relu', dropout_rate=0.3, optimizer='adam'):   \n",
    "    # Init the ANN\n",
    "    classifier = Sequential()\n",
    "    # Adding the input layer and the first hidden layer\n",
    "    classifier.add(Dense(input_dim=input_dim, units=layers[0], kernel_initializer=weights_init, activation=activation))\n",
    "    # Adding the hidden layers\n",
    "    for neurons in layers[1:]:\n",
    "        classifier.add(Dropout(dropout_rate))\n",
    "        classifier.add(Dense(units=neurons, kernel_initializer=weights_init, activation=activation))\n",
    "    # Adding the output layer\n",
    "    classifier.add(Dense(units=1, kernel_initializer=weights_init, activation='sigmoid'))\n",
    "    # Compiling the ANN\n",
    "    classifier.compile(optimizer=optimizer, loss='binary_crossentropy', metrics=['accuracy'])\n",
    "    \n",
    "    return classifier"
   ]
  },
  {
   "cell_type": "code",
   "execution_count": 217,
   "metadata": {},
   "outputs": [],
   "source": [
    "# define the grid search parameters\n",
    "optimizer = ['SGD', 'Adagrad', 'Adadelta', 'Adam', 'Adamax', 'Nadam']\n",
    "layers = [(50, 50, 50, 50, 50), (50, 50, 50), (45, 45, 45), (50, 50)] \n",
    "ANN2_hyperparams = dict(optimizer=optimizer, layers=layers)"
   ]
  },
  {
   "cell_type": "code",
   "execution_count": 221,
   "metadata": {},
   "outputs": [
    {
     "name": "stdout",
     "output_type": "stream",
     "text": [
      "ANN is best (recieved best AUC): 0.903402 using {'layers': (50, 50, 50), 'optimizer': 'Adamax'}\n"
     ]
    }
   ],
   "source": [
    "ANN2_GS = GridSearchCV(estimator=KerasClassifier(build_fn=ANN2, epochs=50, batch_size=50, verbose=0), param_grid=ANN2_hyperparams, cv=5, scoring='roc_auc', n_jobs=-1)\n",
    "ann2_results = ANN2_GS.fit(X_train, y_train)\n",
    "# summarize results\n",
    "print(\"ANN is best (recieved best AUC): %f using %s\" % (ann2_results.best_score_, ann2_results.best_params_))"
   ]
  },
  {
   "cell_type": "markdown",
   "metadata": {},
   "source": [
    "**ANN is best (recieved best AUC): 0.903402 using {'layers': (50, 50, 50), 'optimizer': 'Adamax'}**"
   ]
  },
  {
   "cell_type": "code",
   "execution_count": 214,
   "metadata": {},
   "outputs": [
    {
     "data": {
      "text/plain": [
       "0.9086668809744527"
      ]
     },
     "execution_count": 214,
     "metadata": {},
     "output_type": "execute_result"
    }
   ],
   "source": [
    "# Model Accuracy\n",
    "ann2_results.score(X_validation, y_validation)"
   ]
  },
  {
   "cell_type": "markdown",
   "metadata": {},
   "source": [
    " seems like a simpler model with a different optimizer gives better results"
   ]
  },
  {
   "cell_type": "markdown",
   "metadata": {},
   "source": [
    "Let's try one last time to search for a better dropout rate and maybe try a different activation function"
   ]
  },
  {
   "cell_type": "code",
   "execution_count": 230,
   "metadata": {},
   "outputs": [],
   "source": [
    "def ANN3(layers=(50, 50, 50), input_dim=X_train.shape[1], weights_init='glorot_uniform', activation='relu', dropout_rate=0.3, optimizer='Adamax'):   \n",
    "    # Init the ANN\n",
    "    classifier = Sequential()\n",
    "    # Adding the input layer and the first hidden layer\n",
    "    classifier.add(Dense(input_dim=input_dim, units=layers[0], kernel_initializer=weights_init, activation=activation))\n",
    "    # Adding the hidden layers\n",
    "    for neurons in layers[1:]:\n",
    "        classifier.add(Dropout(dropout_rate))\n",
    "        classifier.add(Dense(units=neurons, kernel_initializer=weights_init, activation=activation))\n",
    "    # Adding the output layer\n",
    "    classifier.add(Dense(units=1, kernel_initializer=weights_init, activation='sigmoid'))\n",
    "    # Compiling the ANN\n",
    "    classifier.compile(optimizer=optimizer, loss='binary_crossentropy', metrics=['accuracy'])\n",
    "    \n",
    "    return classifier"
   ]
  },
  {
   "cell_type": "code",
   "execution_count": 231,
   "metadata": {},
   "outputs": [],
   "source": [
    "# define the grid search parameters\n",
    "dropout_rate = np.linspace(0.1, 0.3, 10)\n",
    "activation = ['softmax', 'softplus', 'softsign', 'relu', 'tanh', 'sigmoid', 'hard_sigmoid', 'linear']\n",
    "ANN3_hyperparams = dict(dropout_rate=dropout_rate, activation=activation)"
   ]
  },
  {
   "cell_type": "code",
   "execution_count": 232,
   "metadata": {},
   "outputs": [
    {
     "name": "stdout",
     "output_type": "stream",
     "text": [
      "ANN is best (recieved best AUC): 0.905988 using {'activation': 'softplus', 'dropout_rate': 0.12222222222222223}\n"
     ]
    }
   ],
   "source": [
    "ANN3_GS = GridSearchCV(estimator=KerasClassifier(build_fn=ANN3, epochs=50, batch_size=50, verbose=0), param_grid=ANN3_hyperparams, cv=5, scoring='roc_auc', n_jobs=-1)\n",
    "ann3_results = ANN3_GS.fit(X_train, y_train)\n",
    "# summarize results\n",
    "print(\"ANN is best (recieved best AUC): %f using %s\" % (ann3_results.best_score_, ann3_results.best_params_))"
   ]
  },
  {
   "cell_type": "markdown",
   "metadata": {},
   "source": [
    "**ANN is best (recieved best AUC): 0.905988 using {'activation': 'softplus', 'dropout_rate': 0.12222222222222223}\n",
    "**"
   ]
  },
  {
   "cell_type": "code",
   "execution_count": 233,
   "metadata": {},
   "outputs": [
    {
     "data": {
      "text/plain": [
       "0.9113239237263637"
      ]
     },
     "execution_count": 233,
     "metadata": {},
     "output_type": "execute_result"
    }
   ],
   "source": [
    "# Model Accuracy\n",
    "ann3_results.score(X_validation, y_validation)"
   ]
  },
  {
   "cell_type": "markdown",
   "metadata": {},
   "source": [
    "**Our final ann model will be:**"
   ]
  },
  {
   "cell_type": "code",
   "execution_count": null,
   "metadata": {},
   "outputs": [],
   "source": [
    "def ANN_final(layers=(50, 50, 50), input_dim=X_train.shape[1], weights_init='glorot_uniform', activation='softplus', dropout_rate=0.12222, optimizer='Adamax'):   \n",
    "    # Init the ANN\n",
    "    classifier = Sequential()\n",
    "    # Adding the input layer and the first hidden layer\n",
    "    classifier.add(Dense(input_dim=input_dim, units=layers[0], kernel_initializer=weights_init, activation=activation))\n",
    "    # Adding the hidden layers\n",
    "    for neurons in layers[1:]:\n",
    "        classifier.add(Dropout(dropout_rate))\n",
    "        classifier.add(Dense(units=neurons, kernel_initializer=weights_init, activation=activation))\n",
    "    # Adding the output layer\n",
    "    classifier.add(Dense(units=1, kernel_initializer=weights_init, activation='sigmoid'))\n",
    "    # Compiling the ANN\n",
    "    classifier.compile(optimizer=optimizer, loss='binary_crossentropy', metrics=['accuracy'])\n",
    "    \n",
    "    return classifier"
   ]
  },
  {
   "cell_type": "markdown",
   "metadata": {},
   "source": [
    "**Lets see how our ANN3 works with the unfiltered high dimension data**"
   ]
  },
  {
   "cell_type": "code",
   "execution_count": 3,
   "metadata": {},
   "outputs": [],
   "source": [
    "RU_high_dim = RunUtils(dataset=data_pipeline._df_train)\n",
    "X_train, y_train, X_validation, y_validation = RU_high_dim.X_train, RU_high_dim.y_train, RU_high_dim.X_validation, RU_high_dim.y_validation"
   ]
  },
  {
   "cell_type": "code",
   "execution_count": 254,
   "metadata": {},
   "outputs": [],
   "source": [
    "def ANN3_high(layers=(50, 50, 50), input_dim=X_train.shape[1], weights_init='glorot_uniform', activation='softplus', dropout_rate=0.3, optimizer='Adamax'):   \n",
    "    # Init the ANN\n",
    "    classifier = Sequential()\n",
    "    # Adding the input layer and the first hidden layer\n",
    "    classifier.add(Dense(input_dim=input_dim, units=layers[0], kernel_initializer=weights_init, activation=activation))\n",
    "    # Adding the hidden layers\n",
    "    for neurons in layers[1:]:\n",
    "        classifier.add(Dropout(dropout_rate))\n",
    "        classifier.add(Dense(units=neurons, kernel_initializer=weights_init, activation=activation))\n",
    "    # Adding the output layer\n",
    "    classifier.add(Dense(units=1, kernel_initializer=weights_init, activation='sigmoid'))\n",
    "    # Compiling the ANN\n",
    "    classifier.compile(optimizer=optimizer, loss='binary_crossentropy', metrics=['accuracy'])\n",
    "    \n",
    "    return classifier"
   ]
  },
  {
   "cell_type": "code",
   "execution_count": 255,
   "metadata": {},
   "outputs": [],
   "source": [
    "# maybe a higher dimension data requires more neurons\n",
    "layers = [(100, 100, 100), (50, 50, 50)] \n",
    "ANN3_high_hyperparams = dict(layers=layers)"
   ]
  },
  {
   "cell_type": "code",
   "execution_count": 256,
   "metadata": {},
   "outputs": [
    {
     "name": "stdout",
     "output_type": "stream",
     "text": [
      "ANN is best (recieved best AUC): 0.905190 using {'layers': (50, 50, 50)}\n"
     ]
    }
   ],
   "source": [
    "ANN3_high_dim_GS = GridSearchCV(estimator=KerasClassifier(build_fn=ANN3_high, epochs=50, batch_size=50, verbose=0), param_grid=ANN3_high_hyperparams, cv=5, scoring='roc_auc', n_jobs=-1)\n",
    "ann3_high_results = ANN3_high_dim_GS.fit(X_train, y_train)\n",
    "# summarize results\n",
    "print(\"ANN is best (recieved best AUC): %f using %s\" % (ann3_high_results.best_score_, ann3_high_results.best_params_))"
   ]
  },
  {
   "cell_type": "code",
   "execution_count": 258,
   "metadata": {},
   "outputs": [
    {
     "data": {
      "text/plain": [
       "0.912493427479242"
      ]
     },
     "execution_count": 258,
     "metadata": {},
     "output_type": "execute_result"
    }
   ],
   "source": [
    "# Model Accuracy\n",
    "ann3_high_results.score(X_validation, y_validation)"
   ]
  },
  {
   "cell_type": "markdown",
   "metadata": {},
   "source": [
    "Similar result. This could mean that the feature selection was good and we didn't lose valueable data"
   ]
  },
  {
   "cell_type": "markdown",
   "metadata": {},
   "source": [
    "## 4. Model evaluation"
   ]
  },
  {
   "cell_type": "code",
   "execution_count": 114,
   "metadata": {},
   "outputs": [
    {
     "data": {
      "text/plain": [
       "94"
      ]
     },
     "execution_count": 114,
     "metadata": {},
     "output_type": "execute_result"
    }
   ],
   "source": []
  }
 ],
 "metadata": {
  "kernelspec": {
   "display_name": "Python 3",
   "language": "python",
   "name": "python3"
  },
  "language_info": {
   "codemirror_mode": {
    "name": "ipython",
    "version": 3
   },
   "file_extension": ".py",
   "mimetype": "text/x-python",
   "name": "python",
   "nbconvert_exporter": "python",
   "pygments_lexer": "ipython3",
   "version": "3.6.5"
  }
 },
 "nbformat": 4,
 "nbformat_minor": 2
}
